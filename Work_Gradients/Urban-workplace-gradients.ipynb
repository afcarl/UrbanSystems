{
 "cells": [
  {
   "cell_type": "markdown",
   "metadata": {},
   "source": [
    "### Workplace gradients\n",
    "Use LEHD Workplace Area Characteristics to calculate the spatial distribution of jobs across US metropolitan areas"
   ]
  },
  {
   "cell_type": "code",
   "execution_count": 1,
   "metadata": {
    "collapsed": false
   },
   "outputs": [
    {
     "name": "stderr",
     "output_type": "stream",
     "text": [
      "/home/clayton/anaconda/lib/python2.7/site-packages/pandas/computation/__init__.py:19: UserWarning: The installed version of numexpr 2.4.4 is not supported in pandas and will be not be used\n",
      "\n",
      "  UserWarning)\n"
     ]
    }
   ],
   "source": [
    "# import pandas for easy data manipulation\n",
    "import pandas as pd"
   ]
  },
  {
   "cell_type": "code",
   "execution_count": 2,
   "metadata": {
    "collapsed": false
   },
   "outputs": [
    {
     "name": "stdout",
     "output_type": "stream",
     "text": [
      "<class 'pandas.core.frame.DataFrame'>\n",
      "RangeIndex: 1885 entries, 0 to 1884\n",
      "Data columns (total 12 columns):\n",
      "CBSA Code                                     1884 non-null object\n",
      "Metro Division Code                           113 non-null float64\n",
      "CSA Code                                      1214 non-null float64\n",
      "CBSA Title                                    1882 non-null object\n",
      "Metropolitan/Micropolitan Statistical Area    1882 non-null object\n",
      "Metropolitan Division Title                   113 non-null object\n",
      "CSA Title                                     1214 non-null object\n",
      "County/County Equivalent                      1882 non-null object\n",
      "State Name                                    1882 non-null object\n",
      "FIPS State Code                               1882 non-null float64\n",
      "FIPS County Code                              1882 non-null float64\n",
      "Central/Outlying County                       1882 non-null object\n",
      "dtypes: float64(4), object(8)\n",
      "memory usage: 176.8+ KB\n"
     ]
    }
   ],
   "source": [
    "# read in CBSA-county data\n",
    "# source: http://www.census.gov/population/metro/data/def.html \n",
    "# (\"Core based statistical areas (CBSAs) and combined statistical areas (CSAs)\")\n",
    "CBSA_counties = pd.read_excel('List1.xls', header=2)\n",
    "CBSA_counties.info()"
   ]
  },
  {
   "cell_type": "code",
   "execution_count": 3,
   "metadata": {
    "collapsed": false
   },
   "outputs": [],
   "source": [
    "# remove couple worthless rows at the end of the dataset (source info etc)\n",
    "CBSA_counties = CBSA_counties[~CBSA_counties['FIPS State Code'].isnull()]"
   ]
  },
  {
   "cell_type": "code",
   "execution_count": null,
   "metadata": {
    "collapsed": false
   },
   "outputs": [],
   "source": [
    "CBSA_counties.info()"
   ]
  },
  {
   "cell_type": "code",
   "execution_count": 4,
   "metadata": {
    "collapsed": false
   },
   "outputs": [
    {
     "name": "stdout",
     "output_type": "stream",
     "text": [
      "<class 'pandas.core.frame.DataFrame'>\n",
      "Int64Index: 1882 entries, 0 to 1881\n",
      "Data columns (total 5 columns):\n",
      "CBSA_code     1882 non-null object\n",
      "CBSA_title    1882 non-null object\n",
      "Type          1882 non-null object\n",
      "ST_FIPS       1882 non-null float64\n",
      "Cnty_FIPS     1882 non-null float64\n",
      "dtypes: float64(2), object(3)\n",
      "memory usage: 88.2+ KB\n"
     ]
    }
   ],
   "source": [
    "# grab just the CBSA data we want\n",
    "CBSA_counties = CBSA_counties.loc[:,('CBSA Code', 'CBSA Title', 'Metropolitan/Micropolitan Statistical Area',\n",
    "                                    'FIPS State Code', 'FIPS County Code')]\n",
    "# and rename columns\n",
    "cols = dict(zip(['CBSA Code', 'CBSA Title', 'Metropolitan/Micropolitan Statistical Area',\n",
    "                 'FIPS State Code', 'FIPS County Code'],\n",
    "                ['CBSA_code', 'CBSA_title', 'Type', 'ST_FIPS', 'Cnty_FIPS']))\n",
    "CBSA_counties.rename(columns=cols, inplace=True)\n",
    "CBSA_counties.info()"
   ]
  },
  {
   "cell_type": "code",
   "execution_count": 5,
   "metadata": {
    "collapsed": false
   },
   "outputs": [],
   "source": [
    "# set up field to use to identify LEHD download url, print out to check\n",
    "CBSA_counties['ST_abbrev'] = CBSA_counties['CBSA_title'].apply(lambda x: x[-2:].lower())\n",
    "#print CBSA_counties['ST_abbrev'].unique()"
   ]
  },
  {
   "cell_type": "code",
   "execution_count": 6,
   "metadata": {
    "collapsed": false
   },
   "outputs": [
    {
     "data": {
      "text/html": [
       "<div>\n",
       "<table border=\"1\" class=\"dataframe\">\n",
       "  <thead>\n",
       "    <tr style=\"text-align: right;\">\n",
       "      <th></th>\n",
       "      <th>CBSA_code</th>\n",
       "      <th>CBSA_title</th>\n",
       "      <th>Type</th>\n",
       "      <th>ST_FIPS</th>\n",
       "      <th>Cnty_FIPS</th>\n",
       "      <th>ST_abbrev</th>\n",
       "      <th>fips_cnty</th>\n",
       "    </tr>\n",
       "  </thead>\n",
       "  <tbody>\n",
       "    <tr>\n",
       "      <th>0</th>\n",
       "      <td>10100</td>\n",
       "      <td>Aberdeen, SD</td>\n",
       "      <td>Micropolitan Statistical Area</td>\n",
       "      <td>46</td>\n",
       "      <td>13</td>\n",
       "      <td>sd</td>\n",
       "      <td>46013</td>\n",
       "    </tr>\n",
       "    <tr>\n",
       "      <th>1</th>\n",
       "      <td>10100</td>\n",
       "      <td>Aberdeen, SD</td>\n",
       "      <td>Micropolitan Statistical Area</td>\n",
       "      <td>46</td>\n",
       "      <td>45</td>\n",
       "      <td>sd</td>\n",
       "      <td>46045</td>\n",
       "    </tr>\n",
       "    <tr>\n",
       "      <th>2</th>\n",
       "      <td>10140</td>\n",
       "      <td>Aberdeen, WA</td>\n",
       "      <td>Micropolitan Statistical Area</td>\n",
       "      <td>53</td>\n",
       "      <td>27</td>\n",
       "      <td>wa</td>\n",
       "      <td>53027</td>\n",
       "    </tr>\n",
       "    <tr>\n",
       "      <th>3</th>\n",
       "      <td>10180</td>\n",
       "      <td>Abilene, TX</td>\n",
       "      <td>Metropolitan Statistical Area</td>\n",
       "      <td>48</td>\n",
       "      <td>59</td>\n",
       "      <td>tx</td>\n",
       "      <td>48059</td>\n",
       "    </tr>\n",
       "    <tr>\n",
       "      <th>4</th>\n",
       "      <td>10180</td>\n",
       "      <td>Abilene, TX</td>\n",
       "      <td>Metropolitan Statistical Area</td>\n",
       "      <td>48</td>\n",
       "      <td>253</td>\n",
       "      <td>tx</td>\n",
       "      <td>48253</td>\n",
       "    </tr>\n",
       "  </tbody>\n",
       "</table>\n",
       "</div>"
      ],
      "text/plain": [
       "  CBSA_code    CBSA_title                           Type  ST_FIPS  Cnty_FIPS  \\\n",
       "0     10100  Aberdeen, SD  Micropolitan Statistical Area       46         13   \n",
       "1     10100  Aberdeen, SD  Micropolitan Statistical Area       46         45   \n",
       "2     10140  Aberdeen, WA  Micropolitan Statistical Area       53         27   \n",
       "3     10180   Abilene, TX  Metropolitan Statistical Area       48         59   \n",
       "4     10180   Abilene, TX  Metropolitan Statistical Area       48        253   \n",
       "\n",
       "  ST_abbrev fips_cnty  \n",
       "0        sd     46013  \n",
       "1        sd     46045  \n",
       "2        wa     53027  \n",
       "3        tx     48059  \n",
       "4        tx     48253  "
      ]
     },
     "execution_count": 6,
     "metadata": {},
     "output_type": "execute_result"
    }
   ],
   "source": [
    "# set up full county FIPS code (2-digit state plus 3-digit county, so 5 digit string total)\n",
    "CBSA_counties['ST_FIPS'] = CBSA_counties['ST_FIPS'].astype(int)\n",
    "CBSA_counties['Cnty_FIPS'] = CBSA_counties['Cnty_FIPS'].astype(int)\n",
    "CBSA_counties['fips_cnty'] = CBSA_counties.apply(lambda x: ('0'+str(x.ST_FIPS))[-2:]+('00'+str(x.Cnty_FIPS))[-3:],\n",
    "                                                axis=1)\n",
    "CBSA_counties.head()"
   ]
  },
  {
   "cell_type": "code",
   "execution_count": null,
   "metadata": {
    "collapsed": false
   },
   "outputs": [],
   "source": [
    "# download and extract desired LEHD data\n",
    "\n",
    "# static URL info\n",
    "base = 'http://lehd.ces.census.gov/data/lodes/LODES7/'\n",
    "end = '_wac_S000_JT00_2013.csv.gz' # 2014 data exists for all states except WY as of March 31, 2016\n",
    "\n",
    "# add extracted data to this list\n",
    "DFs = []\n",
    "# iterate through CBSA codes\n",
    "for s in CBSA_counties.ST_abbrev.unique():\n",
    "    try:\n",
    "        # try to get data\n",
    "        df = pd.read_csv(base+'{0:}/wac/{0:}'.format(s)+end, compression='gzip')\n",
    "        # grab only desired columns of downloaded data\n",
    "        df = df.loc[:,('w_geocode', 'C000')]\n",
    "        # correct pandas annoying habit of setting numbers to numeric type\n",
    "        df['w_geocode'] = df['w_geocode'].astype(str)\n",
    "        df['w_geocode'] = df['w_geocode'].apply(lambda x: ('00'+x)[-15:])\n",
    "        df['cnty_fips'] = df['w_geocode'].apply(lambda x: x[:5])\n",
    "        # subset df to just counties we want for this state\n",
    "        df = df[df.cnty_fips.isin(CBSA_counties[CBSA_counties.ST_abbrev==s].fips_cnty.values.tolist())]\n",
    "        # add this df to list of DFs\n",
    "        DFs.append(df)\n",
    "    except:\n",
    "        print 'failed for state {}'.format(s)\n",
    "        \n",
    "# combine all downloaded data into single dataframe\n",
    "df = pd.concat(DFs)"
   ]
  },
  {
   "cell_type": "markdown",
   "metadata": {},
   "source": [
    "PR does not download -> *which is fine, as PR does not have any LODES data so failing for it is expected*"
   ]
  },
  {
   "cell_type": "code",
   "execution_count": null,
   "metadata": {
    "collapsed": false
   },
   "outputs": [],
   "source": [
    "df.info()"
   ]
  },
  {
   "cell_type": "code",
   "execution_count": null,
   "metadata": {
    "collapsed": false
   },
   "outputs": [],
   "source": [
    "# save out WAC interim file\n",
    "df.to_csv('interim_data/cbsa_wac_2013.csv', index=False, index_label=False)"
   ]
  },
  {
   "cell_type": "code",
   "execution_count": 8,
   "metadata": {
    "collapsed": false
   },
   "outputs": [
    {
     "name": "stdout",
     "output_type": "stream",
     "text": [
      "<class 'pandas.core.frame.DataFrame'>\n",
      "RangeIndex: 1466364 entries, 0 to 1466363\n",
      "Data columns (total 3 columns):\n",
      "w_geocode    1466364 non-null object\n",
      "C000         1466364 non-null int64\n",
      "cnty_fips    1466364 non-null object\n",
      "dtypes: int64(1), object(2)\n",
      "memory usage: 33.6+ MB\n"
     ]
    }
   ],
   "source": [
    "# if already extracted LODES\n",
    "df = pd.read_csv('interim_data/cbsa_wac_2013.csv', dtype={'w_geocode': str, 'cnty_fips': str})\n",
    "df.info()"
   ]
  },
  {
   "cell_type": "code",
   "execution_count": 16,
   "metadata": {
    "collapsed": true
   },
   "outputs": [],
   "source": [
    "# and get appropriate block location data\n",
    "import geopandas as gpd\n",
    "#from StringIO import StringIO\n",
    "from io import BytesIO\n",
    "from zipfile import ZipFile\n",
    "import requests"
   ]
  },
  {
   "cell_type": "code",
   "execution_count": null,
   "metadata": {
    "collapsed": false
   },
   "outputs": [],
   "source": [
    "# iteratively downloads each shapefile for all 1,882 counties to \"spatial_data\" in working directory\n",
    "# \"shapefile\" actually consists of ~5 files, so total downloaded and extracted around ~9.4k files\n",
    "shpList = []\n",
    "for c in df.cnty_fips.unique():\n",
    "    try:\n",
    "        # set url info for download\n",
    "        tbl = 'tl_2010_{}_tabblock10.zip'.format(c)\n",
    "        url = 'http://www2.census.gov/geo/tiger/TIGER2010/TABBLOCK/2010/'+tbl\n",
    "        # set download info and zipfile info for extracting the data\n",
    "        r = requests.get(url)\n",
    "        f = ZipFile(BytesIO(r.content))\n",
    "        # extract shapefile to spatial_data folder\n",
    "        f.extractall('spatial_data/')\n",
    "        # add downloaded file to list to read in later\n",
    "        shpList.append('spatial_data/'+tbl[:-3]+'shp')\n",
    "    except:\n",
    "        print 'failed for county {}'.format(c)"
   ]
  },
  {
   "cell_type": "code",
   "execution_count": 13,
   "metadata": {
    "collapsed": true
   },
   "outputs": [],
   "source": [
    "# if shapefiles already downloaded, re-create shpList with counties from LODES data\n",
    "shpList = ['spatial_data/tl_2010_'+c+'_tabblock10.shp' for c in df.cnty_fips.unique()]"
   ]
  },
  {
   "cell_type": "code",
   "execution_count": 40,
   "metadata": {
    "collapsed": false
   },
   "outputs": [
    {
     "name": "stdout",
     "output_type": "stream",
     "text": [
      "<class 'pandas.core.frame.DataFrame'>\n",
      "Int64Index: 7106456 entries, 0 to 7106455\n",
      "Data columns (total 4 columns):\n",
      "GEOID10    object\n",
      "UR10       object\n",
      "lon        float64\n",
      "lat        float64\n",
      "dtypes: float64(2), object(2)\n",
      "memory usage: 271.1+ MB\n"
     ]
    }
   ],
   "source": [
    "# read in all the downloaded shapefiles and compile to single GeoDataFrame\n",
    "# takes a while to run through (reading in >1800 shapefiles, getting center point, subsetting, and concatenating)\n",
    "blocks = pd.DataFrame()\n",
    "for f in shpList:\n",
    "    # read in shapefile 'f'\n",
    "    b = gpd.read_file(f)\n",
    "    # create center point lat/lon\n",
    "    b['lon'] = b.geometry.apply(lambda r: r.centroid.x)\n",
    "    b['lat'] = b.geometry.apply(lambda r: r.centroid.y)\n",
    "    # subset to just desired data and set as DataFrame object\n",
    "    b = pd.DataFrame(b.loc[:, ('GEOID10', 'UR10', 'lon', 'lat')])\n",
    "    # concatenate each to \"blocks\"\n",
    "    blocks = pd.concat([blocks, b], ignore_index=True)\n",
    "    \n",
    "blocks.info()"
   ]
  },
  {
   "cell_type": "code",
   "execution_count": 49,
   "metadata": {
    "collapsed": false
   },
   "outputs": [],
   "source": [
    "# add county FIPS\n",
    "blocks['cnty_fips'] = blocks.GEOID10.apply(lambda x: x[:5])"
   ]
  },
  {
   "cell_type": "code",
   "execution_count": 59,
   "metadata": {
    "collapsed": false
   },
   "outputs": [],
   "source": [
    "# create for faster county -> cbsa lookup\n",
    "cbsa_lookup = dict(CBSA_counties.loc[:,('fips_cnty', 'CBSA_code')].values)"
   ]
  },
  {
   "cell_type": "code",
   "execution_count": 62,
   "metadata": {
    "collapsed": false
   },
   "outputs": [
    {
     "data": {
      "text/html": [
       "<div>\n",
       "<table border=\"1\" class=\"dataframe\">\n",
       "  <thead>\n",
       "    <tr style=\"text-align: right;\">\n",
       "      <th></th>\n",
       "      <th>GEOID10</th>\n",
       "      <th>UR10</th>\n",
       "      <th>lon</th>\n",
       "      <th>lat</th>\n",
       "      <th>cnty_fips</th>\n",
       "      <th>CBSA_code</th>\n",
       "    </tr>\n",
       "  </thead>\n",
       "  <tbody>\n",
       "    <tr>\n",
       "      <th>0</th>\n",
       "      <td>460059566001068</td>\n",
       "      <td>R</td>\n",
       "      <td>-98.103794</td>\n",
       "      <td>44.333773</td>\n",
       "      <td>46005</td>\n",
       "      <td>26700</td>\n",
       "    </tr>\n",
       "    <tr>\n",
       "      <th>1</th>\n",
       "      <td>460059566001066</td>\n",
       "      <td>R</td>\n",
       "      <td>-98.103950</td>\n",
       "      <td>44.319286</td>\n",
       "      <td>46005</td>\n",
       "      <td>26700</td>\n",
       "    </tr>\n",
       "    <tr>\n",
       "      <th>2</th>\n",
       "      <td>460059566002600</td>\n",
       "      <td>R</td>\n",
       "      <td>-98.100149</td>\n",
       "      <td>44.370025</td>\n",
       "      <td>46005</td>\n",
       "      <td>26700</td>\n",
       "    </tr>\n",
       "    <tr>\n",
       "      <th>3</th>\n",
       "      <td>460059568001219</td>\n",
       "      <td>R</td>\n",
       "      <td>-98.176908</td>\n",
       "      <td>44.365373</td>\n",
       "      <td>46005</td>\n",
       "      <td>26700</td>\n",
       "    </tr>\n",
       "    <tr>\n",
       "      <th>4</th>\n",
       "      <td>460059571001032</td>\n",
       "      <td>R</td>\n",
       "      <td>-98.186713</td>\n",
       "      <td>44.357983</td>\n",
       "      <td>46005</td>\n",
       "      <td>26700</td>\n",
       "    </tr>\n",
       "  </tbody>\n",
       "</table>\n",
       "</div>"
      ],
      "text/plain": [
       "           GEOID10 UR10        lon        lat cnty_fips CBSA_code\n",
       "0  460059566001068    R -98.103794  44.333773     46005     26700\n",
       "1  460059566001066    R -98.103950  44.319286     46005     26700\n",
       "2  460059566002600    R -98.100149  44.370025     46005     26700\n",
       "3  460059568001219    R -98.176908  44.365373     46005     26700\n",
       "4  460059571001032    R -98.186713  44.357983     46005     26700"
      ]
     },
     "execution_count": 62,
     "metadata": {},
     "output_type": "execute_result"
    }
   ],
   "source": [
    "# and add CBSA code\n",
    "blocks['CBSA_code'] = blocks.cnty_fips.apply(lambda x: cbsa_lookup[x])\n",
    "blocks.head()"
   ]
  },
  {
   "cell_type": "code",
   "execution_count": 63,
   "metadata": {
    "collapsed": false
   },
   "outputs": [
    {
     "data": {
      "text/html": [
       "<div>\n",
       "<table border=\"1\" class=\"dataframe\">\n",
       "  <thead>\n",
       "    <tr style=\"text-align: right;\">\n",
       "      <th></th>\n",
       "      <th>CBSA_code</th>\n",
       "      <th>lat</th>\n",
       "      <th>lon</th>\n",
       "    </tr>\n",
       "  </thead>\n",
       "  <tbody>\n",
       "    <tr>\n",
       "      <th>0</th>\n",
       "      <td>10100</td>\n",
       "      <td>45.510600</td>\n",
       "      <td>-98.580639</td>\n",
       "    </tr>\n",
       "    <tr>\n",
       "      <th>1</th>\n",
       "      <td>10140</td>\n",
       "      <td>47.047869</td>\n",
       "      <td>-123.770211</td>\n",
       "    </tr>\n",
       "    <tr>\n",
       "      <th>2</th>\n",
       "      <td>10180</td>\n",
       "      <td>32.477364</td>\n",
       "      <td>-99.744752</td>\n",
       "    </tr>\n",
       "    <tr>\n",
       "      <th>3</th>\n",
       "      <td>10220</td>\n",
       "      <td>34.758250</td>\n",
       "      <td>-96.666263</td>\n",
       "    </tr>\n",
       "    <tr>\n",
       "      <th>4</th>\n",
       "      <td>10300</td>\n",
       "      <td>41.919051</td>\n",
       "      <td>-84.058945</td>\n",
       "    </tr>\n",
       "  </tbody>\n",
       "</table>\n",
       "</div>"
      ],
      "text/plain": [
       "  CBSA_code        lat         lon\n",
       "0     10100  45.510600  -98.580639\n",
       "1     10140  47.047869 -123.770211\n",
       "2     10180  32.477364  -99.744752\n",
       "3     10220  34.758250  -96.666263\n",
       "4     10300  41.919051  -84.058945"
      ]
     },
     "execution_count": 63,
     "metadata": {},
     "output_type": "execute_result"
    }
   ],
   "source": [
    "# create CBSA centroids based on average block location\n",
    "# this is not the same as taking the center point of the bounding box for the CBSA\n",
    "# because blocks have variable sizes based on population distribution\n",
    "# but, in general it will be fairly close to the geographic center point of the CBSA\n",
    "cbsa = blocks.groupby('CBSA_code')['lat', 'lon'].mean()\n",
    "cbsa.reset_index(inplace=True)\n",
    "cbsa.head()"
   ]
  },
  {
   "cell_type": "code",
   "execution_count": 113,
   "metadata": {
    "collapsed": false
   },
   "outputs": [],
   "source": [
    "# Haversine formula good enough proxy for distances\n",
    "# https://gist.github.com/rochacbruno/2883505\n",
    "# Author: Wayne Dyck\n",
    "\n",
    "#import math\n",
    "from math import radians, atan2, sin, cos, sqrt, degrees\n",
    "\n",
    "def distance(origin, destination, u='km'):\n",
    "    lat1, lon1 = origin\n",
    "    lat2, lon2 = destination\n",
    "    if u=='km':\n",
    "        radius = 6371 # km\n",
    "    elif u=='mi':\n",
    "        radius = 3956 # miles\n",
    "    else:\n",
    "        raise # need to define units for radius\n",
    "\n",
    "    dlat = radians(lat2-lat1)\n",
    "    dlon = radians(lon2-lon1)\n",
    "    a = sin(dlat/2.) * sin(dlat/2.) + cos(radians(lat1)) * cos(radians(lat2)) * sin(dlon/2.) * sin(dlon/2.)\n",
    "    c = 2 * atan2(sqrt(a), sqrt(1-a))\n",
    "    d = radius * c\n",
    "\n",
    "    return d\n",
    "\n",
    "## and bearing from \n",
    "#http://stackoverflow.com/questions/4913349/haversine-formula-in-python-bearing-and-distance-between-two-gps-points\n",
    "# due south = 0, scale 0-360 clockwise\n",
    "def bearing(lat1, lon1, lat2, lon2):\n",
    "    b = atan2(sin(lon2-lon1)*cos(lat2), \n",
    "              cos(lat1)*sin(lat2)-sin(lat1)*cos(lat2)*cos(lon2-lon1))\n",
    "    b = degrees(b)\n",
    "    b = (b + 360) % 360\n",
    "    return b"
   ]
  },
  {
   "cell_type": "code",
   "execution_count": 66,
   "metadata": {
    "collapsed": false
   },
   "outputs": [
    {
     "name": "stdout",
     "output_type": "stream",
     "text": [
      "<class 'pandas.core.frame.DataFrame'>\n",
      "Int64Index: 1466364 entries, 0 to 1466363\n",
      "Data columns (total 8 columns):\n",
      "w_geocode    1466364 non-null object\n",
      "C000         1466364 non-null int64\n",
      "cnty_fips    1466364 non-null object\n",
      "GEOID10      1466364 non-null object\n",
      "UR10         1466364 non-null object\n",
      "lon          1466364 non-null float64\n",
      "lat          1466364 non-null float64\n",
      "CBSA_code    1466364 non-null object\n",
      "dtypes: float64(2), int64(1), object(5)\n",
      "memory usage: 100.7+ MB\n"
     ]
    }
   ],
   "source": [
    "# add desired geographic info to df (LODES jobs' locations)\n",
    "df = df.merge(blocks.loc[:,('GEOID10', 'UR10', 'lon', 'lat', 'CBSA_code')], left_on='w_geocode', right_on='GEOID10')\n",
    "df.info()"
   ]
  },
  {
   "cell_type": "code",
   "execution_count": 72,
   "metadata": {
    "collapsed": false
   },
   "outputs": [],
   "source": [
    "# and another dictionary for faster CBSA lat/lon lookup\n",
    "cbsa_points = dict(zip(cbsa.CBSA_code.values, cbsa.loc[:, ('lat', 'lon')].values))"
   ]
  },
  {
   "cell_type": "code",
   "execution_count": 97,
   "metadata": {
    "collapsed": false
   },
   "outputs": [],
   "source": [
    "# calculate distance from block to CBSA center point\n",
    "df['distKm'] = df.apply(lambda r: distance((r.lat, r.lon),\n",
    "                                           (cbsa_points[r.CBSA_code][0],cbsa_points[r.CBSA_code][1])),\n",
    "                        axis=1)"
   ]
  },
  {
   "cell_type": "code",
   "execution_count": 90,
   "metadata": {
    "collapsed": false
   },
   "outputs": [
    {
     "data": {
      "text/html": [
       "<div>\n",
       "<table border=\"1\" class=\"dataframe\">\n",
       "  <thead>\n",
       "    <tr style=\"text-align: right;\">\n",
       "      <th></th>\n",
       "      <th>w_geocode</th>\n",
       "      <th>C000</th>\n",
       "      <th>cnty_fips</th>\n",
       "      <th>GEOID10</th>\n",
       "      <th>UR10</th>\n",
       "      <th>lon</th>\n",
       "      <th>lat</th>\n",
       "      <th>CBSA_code</th>\n",
       "      <th>distKm</th>\n",
       "      <th>bearing</th>\n",
       "    </tr>\n",
       "  </thead>\n",
       "  <tbody>\n",
       "    <tr>\n",
       "      <th>0</th>\n",
       "      <td>460059566001035</td>\n",
       "      <td>14</td>\n",
       "      <td>46005</td>\n",
       "      <td>460059566001035</td>\n",
       "      <td>R</td>\n",
       "      <td>-97.873987</td>\n",
       "      <td>44.361081</td>\n",
       "      <td>26700</td>\n",
       "      <td>31.094400</td>\n",
       "      <td>281.936284</td>\n",
       "    </tr>\n",
       "    <tr>\n",
       "      <th>1</th>\n",
       "      <td>460059566001040</td>\n",
       "      <td>3</td>\n",
       "      <td>46005</td>\n",
       "      <td>460059566001040</td>\n",
       "      <td>R</td>\n",
       "      <td>-97.856266</td>\n",
       "      <td>44.365618</td>\n",
       "      <td>26700</td>\n",
       "      <td>32.403127</td>\n",
       "      <td>281.154110</td>\n",
       "    </tr>\n",
       "    <tr>\n",
       "      <th>2</th>\n",
       "      <td>460059566001071</td>\n",
       "      <td>91</td>\n",
       "      <td>46005</td>\n",
       "      <td>460059566001071</td>\n",
       "      <td>R</td>\n",
       "      <td>-98.142303</td>\n",
       "      <td>44.347356</td>\n",
       "      <td>26700</td>\n",
       "      <td>11.552066</td>\n",
       "      <td>300.845198</td>\n",
       "    </tr>\n",
       "    <tr>\n",
       "      <th>3</th>\n",
       "      <td>460059566001197</td>\n",
       "      <td>3</td>\n",
       "      <td>46005</td>\n",
       "      <td>460059566001197</td>\n",
       "      <td>R</td>\n",
       "      <td>-98.223158</td>\n",
       "      <td>44.275436</td>\n",
       "      <td>26700</td>\n",
       "      <td>15.105102</td>\n",
       "      <td>346.025974</td>\n",
       "    </tr>\n",
       "    <tr>\n",
       "      <th>4</th>\n",
       "      <td>460059566001251</td>\n",
       "      <td>8</td>\n",
       "      <td>46005</td>\n",
       "      <td>460059566001251</td>\n",
       "      <td>R</td>\n",
       "      <td>-98.224083</td>\n",
       "      <td>44.247419</td>\n",
       "      <td>26700</td>\n",
       "      <td>18.161122</td>\n",
       "      <td>348.648071</td>\n",
       "    </tr>\n",
       "  </tbody>\n",
       "</table>\n",
       "</div>"
      ],
      "text/plain": [
       "         w_geocode  C000 cnty_fips          GEOID10 UR10        lon  \\\n",
       "0  460059566001035    14     46005  460059566001035    R -97.873987   \n",
       "1  460059566001040     3     46005  460059566001040    R -97.856266   \n",
       "2  460059566001071    91     46005  460059566001071    R -98.142303   \n",
       "3  460059566001197     3     46005  460059566001197    R -98.223158   \n",
       "4  460059566001251     8     46005  460059566001251    R -98.224083   \n",
       "\n",
       "         lat CBSA_code     distKm     bearing  \n",
       "0  44.361081     26700  31.094400  281.936284  \n",
       "1  44.365618     26700  32.403127  281.154110  \n",
       "2  44.347356     26700  11.552066  300.845198  \n",
       "3  44.275436     26700  15.105102  346.025974  \n",
       "4  44.247419     26700  18.161122  348.648071  "
      ]
     },
     "execution_count": 90,
     "metadata": {},
     "output_type": "execute_result"
    }
   ],
   "source": [
    "# and bearing to city center\n",
    "df['bearing'] = df.apply(lambda r: bearing(r.lat, r.lon, cbsa_points[r.CBSA_code][0],cbsa_points[r.CBSA_code][1]),\n",
    "                                     axis=1)\n",
    "df.head()"
   ]
  },
  {
   "cell_type": "code",
   "execution_count": 96,
   "metadata": {
    "collapsed": false
   },
   "outputs": [
    {
     "name": "stdout",
     "output_type": "stream",
     "text": [
      "<class 'pandas.core.frame.DataFrame'>\n",
      "Int64Index: 1466364 entries, 0 to 1466363\n",
      "Data columns (total 10 columns):\n",
      "w_geocode    1466364 non-null object\n",
      "C000         1466364 non-null int64\n",
      "cnty_fips    1466364 non-null object\n",
      "GEOID10      1466364 non-null object\n",
      "UR10         1466364 non-null object\n",
      "lon          1466364 non-null float64\n",
      "lat          1466364 non-null float64\n",
      "CBSA_code    1466364 non-null object\n",
      "distKm       1466364 non-null float64\n",
      "bearing      1466364 non-null float64\n",
      "dtypes: float64(4), int64(1), object(5)\n",
      "memory usage: 123.1+ MB\n"
     ]
    }
   ],
   "source": [
    "df.info()"
   ]
  },
  {
   "cell_type": "code",
   "execution_count": 81,
   "metadata": {
    "collapsed": true
   },
   "outputs": [],
   "source": [
    "%matplotlib inline\n",
    "import matplotlib.pyplot as plt"
   ]
  },
  {
   "cell_type": "code",
   "execution_count": 98,
   "metadata": {
    "collapsed": true
   },
   "outputs": [],
   "source": [
    "# save out interim df with distances and bearings to city centers\n",
    "df.to_csv('interim_data/metro_wac_wDistBearings.csv', index=False, index_label=False)"
   ]
  },
  {
   "cell_type": "code",
   "execution_count": 114,
   "metadata": {
    "collapsed": false
   },
   "outputs": [
    {
     "data": {
      "text/plain": [
       "<matplotlib.text.Text at 0x7f4655b17150>"
      ]
     },
     "execution_count": 114,
     "metadata": {},
     "output_type": "execute_result"
    },
    {
     "data": {
      "image/png": "[encoded data removed]",
      "text/plain": [
       "<matplotlib.figure.Figure at 0x7f4656497290>"
      ]
     },
     "metadata": {},
     "output_type": "display_data"
    }
   ],
   "source": [
    "plt.rcParams.update({'font.size': 16})\n",
    "f, ax = plt.subplots(figsize=(10,8))\n",
    "\n",
    "# blocks sized by jobs and colored by bearing\n",
    "ax.scatter(df[df.CBSA_code=='26700'].lon, df[df.CBSA_code=='26700'].lat, edgecolor='none',\n",
    "           s=df[df.CBSA_code=='26700'].C000,\n",
    "           c=df[df.CBSA_code=='26700'].bearing, cmap=plt.cm.get_cmap('coolwarm'))\n",
    "\n",
    "# plot city center as red triangle\n",
    "ax.plot(cbsa_points['26700'][1], cbsa_points['26700'][0], '^r', markersize=20)\n",
    "\n",
    "ax.set_title('Example job distribution around {} center point'.format(\n",
    "    CBSA_counties[CBSA_counties.CBSA_code=='26700'].loc[:,'CBSA_title'].values[0]))\n"
   ]
  },
  {
   "cell_type": "code",
   "execution_count": 117,
   "metadata": {
    "collapsed": false
   },
   "outputs": [
    {
     "name": "stdout",
     "output_type": "stream",
     "text": [
      "<class 'pandas.core.frame.DataFrame'>\n",
      "RangeIndex: 917 entries, 0 to 916\n",
      "Data columns (total 3 columns):\n",
      "CBSA_code    917 non-null object\n",
      "lat          917 non-null float64\n",
      "lon          917 non-null float64\n",
      "dtypes: float64(2), object(1)\n",
      "memory usage: 21.6+ KB\n"
     ]
    }
   ],
   "source": [
    "cbsa.info()"
   ]
  },
  {
   "cell_type": "code",
   "execution_count": 121,
   "metadata": {
    "collapsed": false
   },
   "outputs": [
    {
     "name": "stdout",
     "output_type": "stream",
     "text": [
      "1882\n"
     ]
    }
   ],
   "source": [
    "print len(cbsa_lookup.keys())\n",
    "#print sorted(cbsa_lookup.keys())"
   ]
  },
  {
   "cell_type": "code",
   "execution_count": 122,
   "metadata": {
    "collapsed": false
   },
   "outputs": [
    {
     "name": "stdout",
     "output_type": "stream",
     "text": [
      "<class 'pandas.core.frame.DataFrame'>\n",
      "Int64Index: 1882 entries, 0 to 1881\n",
      "Data columns (total 7 columns):\n",
      "CBSA_code     1882 non-null object\n",
      "CBSA_title    1882 non-null object\n",
      "Type          1882 non-null object\n",
      "ST_FIPS       1882 non-null int64\n",
      "Cnty_FIPS     1882 non-null int64\n",
      "ST_abbrev     1882 non-null object\n",
      "fips_cnty     1882 non-null object\n",
      "dtypes: int64(2), object(5)\n",
      "memory usage: 117.6+ KB\n"
     ]
    }
   ],
   "source": [
    "CBSA_counties.info()"
   ]
  },
  {
   "cell_type": "code",
   "execution_count": 129,
   "metadata": {
    "collapsed": false
   },
   "outputs": [
    {
     "name": "stdout",
     "output_type": "stream",
     "text": [
      "<class 'pandas.core.frame.DataFrame'>\n",
      "Int64Index: 917 entries, 0 to 916\n",
      "Data columns (total 6 columns):\n",
      "CBSA_code       917 non-null object\n",
      "lat             917 non-null float64\n",
      "lon             917 non-null float64\n",
      "CBSA_title      917 non-null object\n",
      "Type            917 non-null object\n",
      "num_counties    917 non-null int64\n",
      "dtypes: float64(2), int64(1), object(3)\n",
      "memory usage: 50.1+ KB\n"
     ]
    }
   ],
   "source": [
    "# add name, type, and count of counties for each CBSA\n",
    "cbsa = cbsa.merge(CBSA_counties.groupby(['CBSA_code', 'CBSA_title', 'Type'])['Cnty_FIPS'].count().reset_index(),\n",
    "                 left_on='CBSA_code', right_on='CBSA_code')\n",
    "# rename count field\n",
    "cbsa.rename(columns={'Cnty_FIPS': 'num_counties'}, inplace=True)\n",
    "cbsa.info()"
   ]
  },
  {
   "cell_type": "code",
   "execution_count": 136,
   "metadata": {
    "collapsed": false
   },
   "outputs": [
    {
     "data": {
      "text/html": [
       "<div>\n",
       "<table border=\"1\" class=\"dataframe\">\n",
       "  <thead>\n",
       "    <tr style=\"text-align: right;\">\n",
       "      <th></th>\n",
       "      <th>CBSA_code</th>\n",
       "      <th>lat</th>\n",
       "      <th>lon</th>\n",
       "      <th>CBSA_title</th>\n",
       "      <th>Type</th>\n",
       "      <th>num_counties</th>\n",
       "    </tr>\n",
       "  </thead>\n",
       "  <tbody>\n",
       "    <tr>\n",
       "      <th>596</th>\n",
       "      <td>35620</td>\n",
       "      <td>41.328218</td>\n",
       "      <td>-75.011844</td>\n",
       "      <td>New York-Newark-Jersey City, NY-NJ-PA</td>\n",
       "      <td>Metropolitan Statistical Area</td>\n",
       "      <td>25</td>\n",
       "    </tr>\n",
       "  </tbody>\n",
       "</table>\n",
       "</div>"
      ],
      "text/plain": [
       "    CBSA_code        lat        lon                             CBSA_title  \\\n",
       "596     35620  41.328218 -75.011844  New York-Newark-Jersey City, NY-NJ-PA   \n",
       "\n",
       "                              Type  num_counties  \n",
       "596  Metropolitan Statistical Area            25  "
      ]
     },
     "execution_count": 136,
     "metadata": {},
     "output_type": "execute_result"
    }
   ],
   "source": [
    "# example to subset by city name\n",
    "cbsa[cbsa.CBSA_title.isin([test for test in cbsa.CBSA_title.values if 'New York' in test])]"
   ]
  },
  {
   "cell_type": "code",
   "execution_count": 138,
   "metadata": {
    "collapsed": false
   },
   "outputs": [],
   "source": [
    "cbsa.to_csv('interim_data/CBSAs.csv', index=False, index_label=False, encoding='UTF-8')"
   ]
  },
  {
   "cell_type": "code",
   "execution_count": null,
   "metadata": {
    "collapsed": true
   },
   "outputs": [],
   "source": []
  }
 ],
 "metadata": {
  "kernelspec": {
   "display_name": "Python 2",
   "language": "python",
   "name": "python2"
  },
  "language_info": {
   "codemirror_mode": {
    "name": "ipython",
    "version": 2
   },
   "file_extension": ".py",
   "mimetype": "text/x-python",
   "name": "python",
   "nbconvert_exporter": "python",
   "pygments_lexer": "ipython2",
   "version": "2.7.11"
  }
 },
 "nbformat": 4,
 "nbformat_minor": 0
}
