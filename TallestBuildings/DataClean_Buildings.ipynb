{
 "cells": [
  {
   "cell_type": "markdown",
   "metadata": {},
   "source": [
    "### data cleaning for Tall Buildings"
   ]
  },
  {
   "cell_type": "code",
   "execution_count": 1,
   "metadata": {
    "collapsed": true
   },
   "outputs": [],
   "source": [
    "import pandas as pd"
   ]
  },
  {
   "cell_type": "code",
   "execution_count": 2,
   "metadata": {
    "collapsed": false
   },
   "outputs": [],
   "source": [
    "# note - went in and replaced \"sao paulo\" entries due to encoding annoyances\n",
    "xl = pd.ExcelFile('(778114242) buildings_2016-03-10-21-20-21.xlsx')"
   ]
  },
  {
   "cell_type": "code",
   "execution_count": 37,
   "metadata": {
    "collapsed": false
   },
   "outputs": [],
   "source": [
    "DFs = []\n",
    "DFs.append(xl.parse(xl.sheet_names[0], skiprows=1,\n",
    "                    parse_cols=[0, 3, 8, 10, 12, 15, 18, 20, 24], convert_float=False,\n",
    "                 names=['Rank', 'Building', 'City', 'Height_m', 'Height_ft', 'Floors', \n",
    "                        'DateComplete', 'Material', 'Use']))\n",
    "for sheet in xl.sheet_names[1:]:\n",
    "    DFs.append(xl.parse(sheet, parse_cols=[0, 2, 3, 4, 5, 6, 7, 8, 9], convert_float=False,\n",
    "                 names=['Rank', 'Building', 'City', 'Height_m', 'Height_ft', 'Floors', \n",
    "                        'DateComplete', 'Material', 'Use']))\n",
    "    \n",
    "df = pd.concat(DFs)\n",
    "# make dataframe's index unique\n",
    "df.reset_index(inplace=True) \n",
    "df.drop('index', inplace=True, axis=1)"
   ]
  },
  {
   "cell_type": "code",
   "execution_count": 38,
   "metadata": {
    "collapsed": false
   },
   "outputs": [
    {
     "data": {
      "text/html": [
       "<div>\n",
       "<table border=\"1\" class=\"dataframe\">\n",
       "  <thead>\n",
       "    <tr style=\"text-align: right;\">\n",
       "      <th></th>\n",
       "      <th>Rank</th>\n",
       "      <th>Building</th>\n",
       "      <th>City</th>\n",
       "      <th>Height_m</th>\n",
       "      <th>Height_ft</th>\n",
       "      <th>Floors</th>\n",
       "      <th>DateComplete</th>\n",
       "      <th>Material</th>\n",
       "      <th>Use</th>\n",
       "    </tr>\n",
       "  </thead>\n",
       "  <tbody>\n",
       "    <tr>\n",
       "      <th>0</th>\n",
       "      <td>1</td>\n",
       "      <td>Burj Khalifa</td>\n",
       "      <td>Dubai</td>\n",
       "      <td>828.0</td>\n",
       "      <td>2,717</td>\n",
       "      <td>163</td>\n",
       "      <td>2010</td>\n",
       "      <td>steel/concrete</td>\n",
       "      <td>office / residential /\\nhotel</td>\n",
       "    </tr>\n",
       "    <tr>\n",
       "      <th>1</th>\n",
       "      <td>2</td>\n",
       "      <td>Shanghai Tower</td>\n",
       "      <td>Shanghai</td>\n",
       "      <td>632.0</td>\n",
       "      <td>2,073</td>\n",
       "      <td>128</td>\n",
       "      <td>2015</td>\n",
       "      <td>composite</td>\n",
       "      <td>hotel / office</td>\n",
       "    </tr>\n",
       "    <tr>\n",
       "      <th>2</th>\n",
       "      <td>3</td>\n",
       "      <td>Makkah Royal C lock Tower</td>\n",
       "      <td>Mecca</td>\n",
       "      <td>601.0</td>\n",
       "      <td>1,972</td>\n",
       "      <td>120</td>\n",
       "      <td>2012</td>\n",
       "      <td>steel/concrete</td>\n",
       "      <td>other / hotel</td>\n",
       "    </tr>\n",
       "    <tr>\n",
       "      <th>3</th>\n",
       "      <td>4</td>\n",
       "      <td>One World Trade C enter</td>\n",
       "      <td>New York C ity</td>\n",
       "      <td>541.3</td>\n",
       "      <td>1,776</td>\n",
       "      <td>94</td>\n",
       "      <td>2014</td>\n",
       "      <td>composite</td>\n",
       "      <td>office</td>\n",
       "    </tr>\n",
       "    <tr>\n",
       "      <th>4</th>\n",
       "      <td>5</td>\n",
       "      <td>TAIPEI 101</td>\n",
       "      <td>Taipei</td>\n",
       "      <td>508.0</td>\n",
       "      <td>1,667</td>\n",
       "      <td>101</td>\n",
       "      <td>2004</td>\n",
       "      <td>composite</td>\n",
       "      <td>office</td>\n",
       "    </tr>\n",
       "  </tbody>\n",
       "</table>\n",
       "</div>"
      ],
      "text/plain": [
       "   Rank                   Building            City  Height_m Height_ft Floors  \\\n",
       "0     1               Burj Khalifa           Dubai     828.0     2,717    163   \n",
       "1     2             Shanghai Tower        Shanghai     632.0     2,073    128   \n",
       "2     3  Makkah Royal C lock Tower           Mecca     601.0     1,972    120   \n",
       "3     4    One World Trade C enter  New York C ity     541.3     1,776     94   \n",
       "4     5                 TAIPEI 101          Taipei     508.0     1,667    101   \n",
       "\n",
       "   DateComplete        Material                            Use  \n",
       "0          2010  steel/concrete  office / residential /\\nhotel  \n",
       "1          2015       composite                 hotel / office  \n",
       "2          2012  steel/concrete                  other / hotel  \n",
       "3          2014       composite                         office  \n",
       "4          2004       composite                         office  "
      ]
     },
     "execution_count": 38,
     "metadata": {},
     "output_type": "execute_result"
    }
   ],
   "source": [
    "df.head()"
   ]
  },
  {
   "cell_type": "code",
   "execution_count": 51,
   "metadata": {
    "collapsed": false
   },
   "outputs": [
    {
     "name": "stdout",
     "output_type": "stream",
     "text": [
      "<class 'pandas.core.frame.DataFrame'>\n",
      "Int64Index: 3358 entries, 0 to 3357\n",
      "Data columns (total 9 columns):\n",
      "Rank            3358 non-null float64\n",
      "Building        3358 non-null object\n",
      "City            3358 non-null object\n",
      "Height_m        3358 non-null float64\n",
      "Height_ft       3358 non-null object\n",
      "Floors          3358 non-null object\n",
      "DateComplete    3358 non-null float64\n",
      "Material        2573 non-null object\n",
      "Use             3342 non-null object\n",
      "dtypes: float64(3), object(6)\n",
      "memory usage: 262.3+ KB\n"
     ]
    }
   ],
   "source": [
    "df.info()"
   ]
  },
  {
   "cell_type": "code",
   "execution_count": 24,
   "metadata": {
    "collapsed": true
   },
   "outputs": [],
   "source": [
    "# get geographic coordinates of building\n",
    "import geocoder"
   ]
  },
  {
   "cell_type": "code",
   "execution_count": null,
   "metadata": {
    "collapsed": false
   },
   "outputs": [],
   "source": [
    "# at least 1 building (in Brisbane) does not have a name, so force it to be type string\n",
    "# getting errors, put in loop so at least some get calculated and can fill in errors...\n",
    "#df['geoCoord'] = df.apply(lambda x: geocoder.osm(str(x['Name'])+','+str(x['City'])).latlng, axis=1)\n",
    "# initialize columns\n",
    "df['lat'] = 0. \n",
    "df['lon'] = 0.\n",
    "for i, row in df.iterrows():\n",
    "    Bldg = row['Building'][0:row['Building'].find(u'\\u2026')] if type(row['Building'])!=float else str(row['Building'])\n",
    "    # try OSM geocoder first\n",
    "    res = geocoder.osm(Bldg+', '+str(row['City'])).latlng\n",
    "    if len(res)==2:\n",
    "        df.loc[i, 'lat'] = res[0]\n",
    "        df.loc[i, 'lon'] = res[1]\n",
    "    else:\n",
    "        # if doesn't work try google\n",
    "        res = geocoder.google(Bldg+', '+str(row['City'])).latlng\n",
    "        if len(res)==2:\n",
    "            df.loc[i, 'lat'] = res[0]\n",
    "            df.loc[i, 'lon'] = res[1]\n",
    "    #print row.Rank, Bldg+','+str(row['City'])"
   ]
  },
  {
   "cell_type": "code",
   "execution_count": null,
   "metadata": {
    "collapsed": false
   },
   "outputs": [],
   "source": [
    "df.head()"
   ]
  },
  {
   "cell_type": "code",
   "execution_count": 47,
   "metadata": {
    "collapsed": false
   },
   "outputs": [
    {
     "data": {
      "text/plain": [
       "2"
      ]
     },
     "execution_count": 47,
     "metadata": {},
     "output_type": "execute_result"
    }
   ],
   "source": [
    "#geocoder.osm(df.loc[5,'Building']+','+str(df.loc[5,'City'])).latlng\n",
    "test = geocoder.google(df.loc[3,'Building']+','+str(df.loc[3,'City'])).latlng\n",
    "len(test)"
   ]
  },
  {
   "cell_type": "code",
   "execution_count": 48,
   "metadata": {
    "collapsed": false
   },
   "outputs": [
    {
     "data": {
      "text/plain": [
       "0"
      ]
     },
     "execution_count": 48,
     "metadata": {},
     "output_type": "execute_result"
    }
   ],
   "source": [
    "test = geocoder.osm(df.loc[5,'Building']+','+str(df.loc[5,'City'])).latlng\n",
    "len(test)"
   ]
  },
  {
   "cell_type": "code",
   "execution_count": 31,
   "metadata": {
    "collapsed": false
   },
   "outputs": [
    {
     "data": {
      "text/plain": [
       "u'Burj Khalifa,Dubai'"
      ]
     },
     "execution_count": 31,
     "metadata": {},
     "output_type": "execute_result"
    }
   ],
   "source": [
    "df[df.Rank==1].loc[:,'Building'].values[0]+','+str(df[df.Rank==1].loc[:,'City'].values[0])"
   ]
  },
  {
   "cell_type": "code",
   "execution_count": null,
   "metadata": {
    "collapsed": false
   },
   "outputs": [],
   "source": [
    "len(df)"
   ]
  },
  {
   "cell_type": "code",
   "execution_count": 5,
   "metadata": {
    "collapsed": false
   },
   "outputs": [
    {
     "name": "stdout",
     "output_type": "stream",
     "text": [
      "<class 'pandas.core.frame.DataFrame'>\n",
      "Int64Index: 23018 entries, 0 to 23017\n",
      "Data columns (total 19 columns):\n",
      "geonameid         23018 non-null int64\n",
      "name              23018 non-null object\n",
      "asciiname         23018 non-null object\n",
      "alternatenames    20350 non-null object\n",
      "city_lat          23018 non-null float64\n",
      "city_lon          23018 non-null float64\n",
      "f_class           23018 non-null object\n",
      "f_code            23018 non-null object\n",
      "country_code      23005 non-null object\n",
      "cc2               250 non-null object\n",
      "admin1            23011 non-null object\n",
      "admin2            14301 non-null object\n",
      "admin3            4875 non-null object\n",
      "admin4            1916 non-null object\n",
      "population        23018 non-null int64\n",
      "elevation         3509 non-null float64\n",
      "dem               23018 non-null int64\n",
      "timezone          23018 non-null object\n",
      "mod_date          23018 non-null object\n",
      "dtypes: float64(3), int64(3), object(13)\n",
      "memory usage: 3.5+ MB\n"
     ]
    }
   ],
   "source": [
    "# read in city location data (from geonames)\n",
    "cities = pd.read_table('cities15000.txt', header=None, names=['geonameid', 'name', 'asciiname', 'alternatenames',\n",
    "                                                             'city_lat', 'city_lon', 'f_class', 'f_code', \n",
    "                                                              'country_code','cc2', 'admin1', 'admin2', 'admin3', \n",
    "                                                              'admin4', 'population', 'elevation', 'dem', \n",
    "                                                              'timezone', 'mod_date'])\n",
    "\n",
    "cities.info()"
   ]
  },
  {
   "cell_type": "code",
   "execution_count": 54,
   "metadata": {
    "collapsed": true
   },
   "outputs": [],
   "source": [
    "# create lower-case, no space columns for data join\n",
    "df['city_ns'] = df.City.apply(lambda x: x.replace(\" \", \"\").lower())\n",
    "cities['city_ns'] = cities.asciiname.apply(lambda x: x.replace(\" \", \"\").lower())"
   ]
  },
  {
   "cell_type": "code",
   "execution_count": 69,
   "metadata": {
    "collapsed": false
   },
   "outputs": [
    {
     "name": "stdout",
     "output_type": "stream",
     "text": [
      "<class 'pandas.core.frame.DataFrame'>\n",
      "Int64Index: 3757 entries, 0 to 3756\n",
      "Data columns (total 17 columns):\n",
      "Rank            3757 non-null float64\n",
      "Building        3757 non-null object\n",
      "City            3757 non-null object\n",
      "Height_m        3757 non-null float64\n",
      "Height_ft       3757 non-null object\n",
      "Floors          3757 non-null object\n",
      "DateComplete    3757 non-null float64\n",
      "Material        2909 non-null object\n",
      "Use             3741 non-null object\n",
      "city_ns         3757 non-null object\n",
      "name            3635 non-null object\n",
      "city_lat        3635 non-null float64\n",
      "city_lon        3635 non-null float64\n",
      "country_code    3635 non-null object\n",
      "population      3635 non-null float64\n",
      "dem             3635 non-null float64\n",
      "timezone        3635 non-null object\n",
      "dtypes: float64(7), object(10)\n",
      "memory usage: 528.3+ KB\n"
     ]
    }
   ],
   "source": [
    "df_full = pd.merge(df, cities.loc[:,('name', 'city_lat', 'city_lon', 'country_code', 'population', \n",
    "                                     'dem', 'timezone', 'city_ns')], \n",
    "                   how='outer', left_on='city_ns', right_on='city_ns')\n",
    "df_full = df_full[~df_full.Building.isnull()]\n",
    "df_full.info()"
   ]
  },
  {
   "cell_type": "code",
   "execution_count": 70,
   "metadata": {
    "collapsed": false
   },
   "outputs": [],
   "source": [
    "# remove duplicate - this just assumes duplicates are in the larger population location (based on a few samples)\n",
    "# to be updated once fix geocoding above\n",
    "df_full.sort_values(['Building', 'population'], ascending=[True, False], inplace=True)\n",
    "df_full = df_full[~df_full.duplicated(['Rank', 'Building', 'City', 'Height_m', 'Height_ft','Floors', \n",
    "                                       'DateComplete', 'Material', 'Use'])]"
   ]
  },
  {
   "cell_type": "code",
   "execution_count": 71,
   "metadata": {
    "collapsed": false
   },
   "outputs": [
    {
     "data": {
      "text/html": [
       "<div>\n",
       "<table border=\"1\" class=\"dataframe\">\n",
       "  <thead>\n",
       "    <tr style=\"text-align: right;\">\n",
       "      <th></th>\n",
       "      <th>Rank</th>\n",
       "      <th>Building</th>\n",
       "      <th>City</th>\n",
       "      <th>Height_m</th>\n",
       "      <th>Height_ft</th>\n",
       "      <th>Floors</th>\n",
       "      <th>DateComplete</th>\n",
       "      <th>Material</th>\n",
       "      <th>Use</th>\n",
       "      <th>city_ns</th>\n",
       "      <th>name</th>\n",
       "      <th>city_lat</th>\n",
       "      <th>city_lon</th>\n",
       "      <th>country_code</th>\n",
       "      <th>population</th>\n",
       "      <th>dem</th>\n",
       "      <th>timezone</th>\n",
       "    </tr>\n",
       "  </thead>\n",
       "  <tbody>\n",
       "    <tr>\n",
       "      <th>2927</th>\n",
       "      <td>292</td>\n",
       "      <td>0</td>\n",
       "      <td>Brisbane</td>\n",
       "      <td>249.0</td>\n",
       "      <td>817</td>\n",
       "      <td>81</td>\n",
       "      <td>2014</td>\n",
       "      <td>concrete</td>\n",
       "      <td>residential</td>\n",
       "      <td>brisbane</td>\n",
       "      <td>Brisbane</td>\n",
       "      <td>-27.46794</td>\n",
       "      <td>153.02809</td>\n",
       "      <td>AU</td>\n",
       "      <td>2189878</td>\n",
       "      <td>27</td>\n",
       "      <td>Australia/Brisbane</td>\n",
       "    </tr>\n",
       "    <tr>\n",
       "      <th>871</th>\n",
       "      <td>1368</td>\n",
       "      <td>#1 Zhujiang Road Plaza</td>\n",
       "      <td>Nanjing</td>\n",
       "      <td>186.1</td>\n",
       "      <td>611</td>\n",
       "      <td>53</td>\n",
       "      <td>2007</td>\n",
       "      <td>NaN</td>\n",
       "      <td>office / hotel / retail</td>\n",
       "      <td>nanjing</td>\n",
       "      <td>Nanjing</td>\n",
       "      <td>32.06167</td>\n",
       "      <td>118.77778</td>\n",
       "      <td>CN</td>\n",
       "      <td>7165292</td>\n",
       "      <td>22</td>\n",
       "      <td>Asia/Shanghai</td>\n",
       "    </tr>\n",
       "    <tr>\n",
       "      <th>470</th>\n",
       "      <td>3212</td>\n",
       "      <td>1 Battery Park Plaza</td>\n",
       "      <td>New York C ity</td>\n",
       "      <td>151.0</td>\n",
       "      <td>495</td>\n",
       "      <td>35</td>\n",
       "      <td>1971</td>\n",
       "      <td>NaN</td>\n",
       "      <td>office</td>\n",
       "      <td>newyorkcity</td>\n",
       "      <td>New York City</td>\n",
       "      <td>40.71427</td>\n",
       "      <td>-74.00597</td>\n",
       "      <td>US</td>\n",
       "      <td>8175133</td>\n",
       "      <td>57</td>\n",
       "      <td>America/New_York</td>\n",
       "    </tr>\n",
       "    <tr>\n",
       "      <th>426</th>\n",
       "      <td>2330</td>\n",
       "      <td>1 Brooklyn Bridge Plaza</td>\n",
       "      <td>New York C ity</td>\n",
       "      <td>164.9</td>\n",
       "      <td>541</td>\n",
       "      <td>42</td>\n",
       "      <td>1976</td>\n",
       "      <td>NaN</td>\n",
       "      <td>office</td>\n",
       "      <td>newyorkcity</td>\n",
       "      <td>New York City</td>\n",
       "      <td>40.71427</td>\n",
       "      <td>-74.00597</td>\n",
       "      <td>US</td>\n",
       "      <td>8175133</td>\n",
       "      <td>57</td>\n",
       "      <td>America/New_York</td>\n",
       "    </tr>\n",
       "    <tr>\n",
       "      <th>343</th>\n",
       "      <td>1148</td>\n",
       "      <td>1 Dag Hammarskjold Plaza</td>\n",
       "      <td>New York C ity</td>\n",
       "      <td>194.2</td>\n",
       "      <td>637</td>\n",
       "      <td>48</td>\n",
       "      <td>1972</td>\n",
       "      <td>NaN</td>\n",
       "      <td>office</td>\n",
       "      <td>newyorkcity</td>\n",
       "      <td>New York City</td>\n",
       "      <td>40.71427</td>\n",
       "      <td>-74.00597</td>\n",
       "      <td>US</td>\n",
       "      <td>8175133</td>\n",
       "      <td>57</td>\n",
       "      <td>America/New_York</td>\n",
       "    </tr>\n",
       "  </tbody>\n",
       "</table>\n",
       "</div>"
      ],
      "text/plain": [
       "      Rank                  Building            City  Height_m Height_ft  \\\n",
       "2927   292                         0        Brisbane     249.0       817   \n",
       "871   1368    #1 Zhujiang Road Plaza         Nanjing     186.1       611   \n",
       "470   3212      1 Battery Park Plaza  New York C ity     151.0       495   \n",
       "426   2330   1 Brooklyn Bridge Plaza  New York C ity     164.9       541   \n",
       "343   1148  1 Dag Hammarskjold Plaza  New York C ity     194.2       637   \n",
       "\n",
       "     Floors  DateComplete  Material                      Use      city_ns  \\\n",
       "2927     81          2014  concrete              residential     brisbane   \n",
       "871      53          2007       NaN  office / hotel / retail      nanjing   \n",
       "470      35          1971       NaN                   office  newyorkcity   \n",
       "426      42          1976       NaN                   office  newyorkcity   \n",
       "343      48          1972       NaN                   office  newyorkcity   \n",
       "\n",
       "               name  city_lat   city_lon country_code  population  dem  \\\n",
       "2927       Brisbane -27.46794  153.02809           AU     2189878   27   \n",
       "871         Nanjing  32.06167  118.77778           CN     7165292   22   \n",
       "470   New York City  40.71427  -74.00597           US     8175133   57   \n",
       "426   New York City  40.71427  -74.00597           US     8175133   57   \n",
       "343   New York City  40.71427  -74.00597           US     8175133   57   \n",
       "\n",
       "                timezone  \n",
       "2927  Australia/Brisbane  \n",
       "871        Asia/Shanghai  \n",
       "470     America/New_York  \n",
       "426     America/New_York  \n",
       "343     America/New_York  "
      ]
     },
     "execution_count": 71,
     "metadata": {},
     "output_type": "execute_result"
    }
   ],
   "source": [
    "df_full.head()"
   ]
  },
  {
   "cell_type": "code",
   "execution_count": 72,
   "metadata": {
    "collapsed": false
   },
   "outputs": [
    {
     "name": "stdout",
     "output_type": "stream",
     "text": [
      "<class 'pandas.core.frame.DataFrame'>\n",
      "Int64Index: 3356 entries, 2927 to 1906\n",
      "Data columns (total 17 columns):\n",
      "Rank            3356 non-null float64\n",
      "Building        3356 non-null object\n",
      "City            3356 non-null object\n",
      "Height_m        3356 non-null float64\n",
      "Height_ft       3356 non-null object\n",
      "Floors          3356 non-null object\n",
      "DateComplete    3356 non-null float64\n",
      "Material        2572 non-null object\n",
      "Use             3340 non-null object\n",
      "city_ns         3356 non-null object\n",
      "name            3234 non-null object\n",
      "city_lat        3234 non-null float64\n",
      "city_lon        3234 non-null float64\n",
      "country_code    3234 non-null object\n",
      "population      3234 non-null float64\n",
      "dem             3234 non-null float64\n",
      "timezone        3234 non-null object\n",
      "dtypes: float64(7), object(10)\n",
      "memory usage: 471.9+ KB\n"
     ]
    }
   ],
   "source": [
    "df_full.info()"
   ]
  },
  {
   "cell_type": "code",
   "execution_count": 75,
   "metadata": {
    "collapsed": false
   },
   "outputs": [
    {
     "name": "stdout",
     "output_type": "stream",
     "text": [
      "count     122.000000\n",
      "mean     1572.860656\n",
      "std       930.895750\n",
      "min        85.000000\n",
      "25%       715.000000\n",
      "50%      1566.500000\n",
      "75%      2403.750000\n",
      "max      3329.000000\n",
      "Name: Rank, dtype: float64\n"
     ]
    }
   ],
   "source": [
    "# buildings of which rank do not have associated pop values\n",
    "print df_full[df_full.population.isnull()].Rank.describe()"
   ]
  },
  {
   "cell_type": "code",
   "execution_count": 77,
   "metadata": {
    "collapsed": false
   },
   "outputs": [
    {
     "name": "stdout",
     "output_type": "stream",
     "text": [
      "<class 'pandas.core.frame.DataFrame'>\n",
      "Int64Index: 3234 entries, 2927 to 1906\n",
      "Data columns (total 9 columns):\n",
      "Rank          3234 non-null float64\n",
      "Building      3234 non-null object\n",
      "name          3234 non-null object\n",
      "Height_m      3234 non-null float64\n",
      "Floors        3234 non-null object\n",
      "city_lat      3234 non-null float64\n",
      "city_lon      3234 non-null float64\n",
      "population    3234 non-null float64\n",
      "dem           3234 non-null float64\n",
      "dtypes: float64(6), object(3)\n",
      "memory usage: 252.7+ KB\n"
     ]
    }
   ],
   "source": [
    "df_v1 = df_full.loc[:,('Rank', 'Building', 'name', 'Height_m', 'Floors', 'city_lat', 'city_lon',\n",
    "                      'population', 'dem')].dropna()\n",
    "df_v1.info()"
   ]
  },
  {
   "cell_type": "code",
   "execution_count": 84,
   "metadata": {
    "collapsed": true
   },
   "outputs": [],
   "source": [
    "import matplotlib.pyplot as plt\n",
    "%matplotlib inline"
   ]
  },
  {
   "cell_type": "code",
   "execution_count": 88,
   "metadata": {
    "collapsed": false
   },
   "outputs": [
    {
     "data": {
      "text/plain": [
       "<matplotlib.text.Text at 0x7fe915397d90>"
      ]
     },
     "execution_count": 88,
     "metadata": {},
     "output_type": "execute_result"
    },
    {
     "data": {
      "image/png": "[encoded data removed]",
      "text/plain": [
       "<matplotlib.figure.Figure at 0x7fe91548e510>"
      ]
     },
     "metadata": {},
     "output_type": "display_data"
    }
   ],
   "source": [
    "# simple population vs individual building heights\n",
    "plt.rcParams.update({'font.size': 16})\n",
    "f, ax = plt.subplots(figsize=(14,8))\n",
    "\n",
    "ax.plot(df_v1.population/1000000, df_v1.Height_m, 'ob', markersize=5)\n",
    "ax.set_ylabel('Building height (meters)')\n",
    "ax.set_xlabel('City population (millions)')\n",
    "ax.set_title('City population vs building height')"
   ]
  },
  {
   "cell_type": "code",
   "execution_count": 90,
   "metadata": {
    "collapsed": false
   },
   "outputs": [
    {
     "data": {
      "text/plain": [
       "Rank                                      755\n",
       "Building                21st C entury Mansion\n",
       "City                                 Shanghai\n",
       "Height_m                                  210\n",
       "Height_ft                                 689\n",
       "Floors                                     50\n",
       "DateComplete                             2009\n",
       "Material                            composite\n",
       "Use             residential / hotel /\\noffice\n",
       "city_ns                              shanghai\n",
       "name                                 Shanghai\n",
       "city_lat                              31.2222\n",
       "city_lon                              121.458\n",
       "country_code                               CN\n",
       "population                        2.23155e+07\n",
       "dem                                        12\n",
       "timezone                        Asia/Shanghai\n",
       "Name: 186, dtype: object"
      ]
     },
     "execution_count": 90,
     "metadata": {},
     "output_type": "execute_result"
    }
   ],
   "source": [
    "df_full.loc[df_full.population.idxmax(),:]"
   ]
  },
  {
   "cell_type": "code",
   "execution_count": null,
   "metadata": {
    "collapsed": true
   },
   "outputs": [],
   "source": []
  }
 ],
 "metadata": {
  "kernelspec": {
   "display_name": "Python 2",
   "language": "python",
   "name": "python2"
  },
  "language_info": {
   "codemirror_mode": {
    "name": "ipython",
    "version": 2
   },
   "file_extension": ".py",
   "mimetype": "text/x-python",
   "name": "python",
   "nbconvert_exporter": "python",
   "pygments_lexer": "ipython2",
   "version": "2.7.11"
  }
 },
 "nbformat": 4,
 "nbformat_minor": 0
}
