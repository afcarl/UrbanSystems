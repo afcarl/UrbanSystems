{
 "cells": [
  {
   "cell_type": "markdown",
   "metadata": {},
   "source": [
    "### Tallest Buildings - population\n",
    "first data cleaning"
   ]
  },
  {
   "cell_type": "code",
   "execution_count": 1,
   "metadata": {
    "collapsed": true
   },
   "outputs": [],
   "source": [
    "import pandas as pd"
   ]
  },
  {
   "cell_type": "code",
   "execution_count": 2,
   "metadata": {
    "collapsed": false
   },
   "outputs": [],
   "source": [
    "# note - went in and replaced \"sao paulo\" entries due to encoding annoyances\n",
    "xl = pd.ExcelFile('raw_data/(778114242) buildings_2016-03-10-21-20-21.xlsx')"
   ]
  },
  {
   "cell_type": "code",
   "execution_count": 3,
   "metadata": {
    "collapsed": false
   },
   "outputs": [],
   "source": [
    "DFs = []\n",
    "DFs.append(xl.parse(xl.sheet_names[0], skiprows=1,\n",
    "                    parse_cols=[0, 3, 8, 10, 12, 15, 18, 20, 24], convert_float=False,\n",
    "                 names=['Rank', 'Building', 'City', 'Height_m', 'Height_ft', 'Floors', \n",
    "                        'DateComplete', 'Material', 'Use']))\n",
    "for sheet in xl.sheet_names[1:]:\n",
    "    DFs.append(xl.parse(sheet, parse_cols=[0, 2, 3, 4, 5, 6, 7, 8, 9], convert_float=False,\n",
    "                 names=['Rank', 'Building', 'City', 'Height_m', 'Height_ft', 'Floors', \n",
    "                        'DateComplete', 'Material', 'Use']))\n",
    "    \n",
    "df = pd.concat(DFs)\n",
    "# make dataframe's index unique\n",
    "df.reset_index(inplace=True) \n",
    "df.drop('index', inplace=True, axis=1)"
   ]
  },
  {
   "cell_type": "code",
   "execution_count": 4,
   "metadata": {
    "collapsed": false
   },
   "outputs": [
    {
     "data": {
      "text/html": [
       "<div>\n",
       "<table border=\"1\" class=\"dataframe\">\n",
       "  <thead>\n",
       "    <tr style=\"text-align: right;\">\n",
       "      <th></th>\n",
       "      <th>Rank</th>\n",
       "      <th>Building</th>\n",
       "      <th>City</th>\n",
       "      <th>Height_m</th>\n",
       "      <th>Height_ft</th>\n",
       "      <th>Floors</th>\n",
       "      <th>DateComplete</th>\n",
       "      <th>Material</th>\n",
       "      <th>Use</th>\n",
       "    </tr>\n",
       "  </thead>\n",
       "  <tbody>\n",
       "    <tr>\n",
       "      <th>0</th>\n",
       "      <td>1</td>\n",
       "      <td>Burj Khalifa</td>\n",
       "      <td>Dubai</td>\n",
       "      <td>828.0</td>\n",
       "      <td>2,717</td>\n",
       "      <td>163</td>\n",
       "      <td>2010</td>\n",
       "      <td>steel/concrete</td>\n",
       "      <td>office / residential /\\nhotel</td>\n",
       "    </tr>\n",
       "    <tr>\n",
       "      <th>1</th>\n",
       "      <td>2</td>\n",
       "      <td>Shanghai Tower</td>\n",
       "      <td>Shanghai</td>\n",
       "      <td>632.0</td>\n",
       "      <td>2,073</td>\n",
       "      <td>128</td>\n",
       "      <td>2015</td>\n",
       "      <td>composite</td>\n",
       "      <td>hotel / office</td>\n",
       "    </tr>\n",
       "    <tr>\n",
       "      <th>2</th>\n",
       "      <td>3</td>\n",
       "      <td>Makkah Royal C lock Tower</td>\n",
       "      <td>Mecca</td>\n",
       "      <td>601.0</td>\n",
       "      <td>1,972</td>\n",
       "      <td>120</td>\n",
       "      <td>2012</td>\n",
       "      <td>steel/concrete</td>\n",
       "      <td>other / hotel</td>\n",
       "    </tr>\n",
       "    <tr>\n",
       "      <th>3</th>\n",
       "      <td>4</td>\n",
       "      <td>One World Trade C enter</td>\n",
       "      <td>New York C ity</td>\n",
       "      <td>541.3</td>\n",
       "      <td>1,776</td>\n",
       "      <td>94</td>\n",
       "      <td>2014</td>\n",
       "      <td>composite</td>\n",
       "      <td>office</td>\n",
       "    </tr>\n",
       "    <tr>\n",
       "      <th>4</th>\n",
       "      <td>5</td>\n",
       "      <td>TAIPEI 101</td>\n",
       "      <td>Taipei</td>\n",
       "      <td>508.0</td>\n",
       "      <td>1,667</td>\n",
       "      <td>101</td>\n",
       "      <td>2004</td>\n",
       "      <td>composite</td>\n",
       "      <td>office</td>\n",
       "    </tr>\n",
       "  </tbody>\n",
       "</table>\n",
       "</div>"
      ],
      "text/plain": [
       "   Rank                   Building            City  Height_m Height_ft Floors  \\\n",
       "0     1               Burj Khalifa           Dubai     828.0     2,717    163   \n",
       "1     2             Shanghai Tower        Shanghai     632.0     2,073    128   \n",
       "2     3  Makkah Royal C lock Tower           Mecca     601.0     1,972    120   \n",
       "3     4    One World Trade C enter  New York C ity     541.3     1,776     94   \n",
       "4     5                 TAIPEI 101          Taipei     508.0     1,667    101   \n",
       "\n",
       "   DateComplete        Material                            Use  \n",
       "0          2010  steel/concrete  office / residential /\\nhotel  \n",
       "1          2015       composite                 hotel / office  \n",
       "2          2012  steel/concrete                  other / hotel  \n",
       "3          2014       composite                         office  \n",
       "4          2004       composite                         office  "
      ]
     },
     "execution_count": 4,
     "metadata": {},
     "output_type": "execute_result"
    }
   ],
   "source": [
    "df.head()"
   ]
  },
  {
   "cell_type": "code",
   "execution_count": 5,
   "metadata": {
    "collapsed": false
   },
   "outputs": [
    {
     "name": "stdout",
     "output_type": "stream",
     "text": [
      "<class 'pandas.core.frame.DataFrame'>\n",
      "Int64Index: 3358 entries, 0 to 3357\n",
      "Data columns (total 9 columns):\n",
      "Rank            3358 non-null float64\n",
      "Building        3358 non-null object\n",
      "City            3358 non-null object\n",
      "Height_m        3358 non-null float64\n",
      "Height_ft       3358 non-null object\n",
      "Floors          3358 non-null object\n",
      "DateComplete    3358 non-null float64\n",
      "Material        2573 non-null object\n",
      "Use             3342 non-null object\n",
      "dtypes: float64(3), object(6)\n",
      "memory usage: 262.3+ KB\n"
     ]
    }
   ],
   "source": [
    "df.info()"
   ]
  },
  {
   "cell_type": "code",
   "execution_count": 6,
   "metadata": {
    "collapsed": true
   },
   "outputs": [],
   "source": [
    "# write out full buildings dataset\n",
    "df.to_csv('interim_data/buildings_raw.csv', index=False, index_label=False, encoding='UTF-8')"
   ]
  },
  {
   "cell_type": "markdown",
   "metadata": {},
   "source": [
    "#### geocode buildings to use distance from city center\n",
    "both as (1) selection between cities with same name (b/c buildings dataset doesn't have country) and (2) distance gradient of buildings' height from city center\n",
    "\n",
    "# SKIP - buildings do not geocode well\n",
    "need either more complete addresses or to scrape The Skyscraper Center's website"
   ]
  },
  {
   "cell_type": "code",
   "execution_count": 24,
   "metadata": {
    "collapsed": true
   },
   "outputs": [],
   "source": [
    "# get geographic coordinates of building\n",
    "import geocoder"
   ]
  },
  {
   "cell_type": "code",
   "execution_count": 180,
   "metadata": {
    "collapsed": false
   },
   "outputs": [],
   "source": [
    "# at least 1 building (in Brisbane) does not have a name, so force it to be type string\n",
    "# getting errors, put in loop so at least some get calculated and can fill in errors...\n",
    "#df['geoCoord'] = df.apply(lambda x: geocoder.osm(str(x['Name'])+','+str(x['City'])).latlng, axis=1)\n",
    "# initialize columns\n",
    "df['lat'] = 0. \n",
    "df['lon'] = 0.\n",
    "for i, row in df.iterrows():\n",
    "    Bldg = row['Building'][0:row['Building'].find(u'\\u2026')] if type(row['Building'])!=float else str(row['Building'])\n",
    "    # try OSM geocoder first\n",
    "    res = geocoder.osm(Bldg+', '+str(row['City'])).latlng\n",
    "    if len(res)==2:\n",
    "        df.loc[i, 'lat'] = res[0]\n",
    "        df.loc[i, 'lon'] = res[1]\n",
    "    else:\n",
    "        # if doesn't work try google\n",
    "        res = geocoder.google(Bldg+', '+str(row['City'])).latlng\n",
    "        if len(res)==2:\n",
    "            df.loc[i, 'lat'] = res[0]\n",
    "            df.loc[i, 'lon'] = res[1]\n",
    "    #print row.Rank, Bldg+','+str(row['City'])"
   ]
  },
  {
   "cell_type": "code",
   "execution_count": 181,
   "metadata": {
    "collapsed": false
   },
   "outputs": [
    {
     "data": {
      "text/html": [
       "<div>\n",
       "<table border=\"1\" class=\"dataframe\">\n",
       "  <thead>\n",
       "    <tr style=\"text-align: right;\">\n",
       "      <th></th>\n",
       "      <th>Rank</th>\n",
       "      <th>Building</th>\n",
       "      <th>City</th>\n",
       "      <th>Height_m</th>\n",
       "      <th>Height_ft</th>\n",
       "      <th>Floors</th>\n",
       "      <th>DateComplete</th>\n",
       "      <th>Material</th>\n",
       "      <th>Use</th>\n",
       "      <th>city_ns</th>\n",
       "      <th>lat</th>\n",
       "      <th>lon</th>\n",
       "    </tr>\n",
       "  </thead>\n",
       "  <tbody>\n",
       "    <tr>\n",
       "      <th>0</th>\n",
       "      <td>1</td>\n",
       "      <td>Burj Khalifa</td>\n",
       "      <td>Dubai</td>\n",
       "      <td>828.0</td>\n",
       "      <td>2,717</td>\n",
       "      <td>163</td>\n",
       "      <td>2010</td>\n",
       "      <td>steel/concrete</td>\n",
       "      <td>office / residential /\\nhotel</td>\n",
       "      <td>dubai</td>\n",
       "      <td>25.195125</td>\n",
       "      <td>55.275305</td>\n",
       "    </tr>\n",
       "    <tr>\n",
       "      <th>1</th>\n",
       "      <td>2</td>\n",
       "      <td>Shanghai Tower</td>\n",
       "      <td>Shanghai</td>\n",
       "      <td>632.0</td>\n",
       "      <td>2,073</td>\n",
       "      <td>128</td>\n",
       "      <td>2015</td>\n",
       "      <td>composite</td>\n",
       "      <td>hotel / office</td>\n",
       "      <td>shanghai</td>\n",
       "      <td>31.230000</td>\n",
       "      <td>121.449000</td>\n",
       "    </tr>\n",
       "    <tr>\n",
       "      <th>2</th>\n",
       "      <td>3</td>\n",
       "      <td>Makkah Royal C lock Tower</td>\n",
       "      <td>Mecca</td>\n",
       "      <td>601.0</td>\n",
       "      <td>1,972</td>\n",
       "      <td>120</td>\n",
       "      <td>2012</td>\n",
       "      <td>steel/concrete</td>\n",
       "      <td>other / hotel</td>\n",
       "      <td>mecca</td>\n",
       "      <td>21.389082</td>\n",
       "      <td>39.857912</td>\n",
       "    </tr>\n",
       "    <tr>\n",
       "      <th>3</th>\n",
       "      <td>4</td>\n",
       "      <td>One World Trade C enter</td>\n",
       "      <td>New York C ity</td>\n",
       "      <td>541.3</td>\n",
       "      <td>1,776</td>\n",
       "      <td>94</td>\n",
       "      <td>2014</td>\n",
       "      <td>composite</td>\n",
       "      <td>office</td>\n",
       "      <td>newyorkcity</td>\n",
       "      <td>40.712949</td>\n",
       "      <td>-74.013161</td>\n",
       "    </tr>\n",
       "    <tr>\n",
       "      <th>4</th>\n",
       "      <td>5</td>\n",
       "      <td>TAIPEI 101</td>\n",
       "      <td>Taipei</td>\n",
       "      <td>508.0</td>\n",
       "      <td>1,667</td>\n",
       "      <td>101</td>\n",
       "      <td>2004</td>\n",
       "      <td>composite</td>\n",
       "      <td>office</td>\n",
       "      <td>taipei</td>\n",
       "      <td>25.037517</td>\n",
       "      <td>121.563700</td>\n",
       "    </tr>\n",
       "  </tbody>\n",
       "</table>\n",
       "</div>"
      ],
      "text/plain": [
       "   Rank                   Building            City  Height_m Height_ft Floors  \\\n",
       "0     1               Burj Khalifa           Dubai     828.0     2,717    163   \n",
       "1     2             Shanghai Tower        Shanghai     632.0     2,073    128   \n",
       "2     3  Makkah Royal C lock Tower           Mecca     601.0     1,972    120   \n",
       "3     4    One World Trade C enter  New York C ity     541.3     1,776     94   \n",
       "4     5                 TAIPEI 101          Taipei     508.0     1,667    101   \n",
       "\n",
       "   DateComplete        Material                            Use      city_ns  \\\n",
       "0          2010  steel/concrete  office / residential /\\nhotel        dubai   \n",
       "1          2015       composite                 hotel / office     shanghai   \n",
       "2          2012  steel/concrete                  other / hotel        mecca   \n",
       "3          2014       composite                         office  newyorkcity   \n",
       "4          2004       composite                         office       taipei   \n",
       "\n",
       "         lat         lon  \n",
       "0  25.195125   55.275305  \n",
       "1  31.230000  121.449000  \n",
       "2  21.389082   39.857912  \n",
       "3  40.712949  -74.013161  \n",
       "4  25.037517  121.563700  "
      ]
     },
     "execution_count": 181,
     "metadata": {},
     "output_type": "execute_result"
    }
   ],
   "source": [
    "df.head()"
   ]
  },
  {
   "cell_type": "code",
   "execution_count": 183,
   "metadata": {
    "collapsed": false
   },
   "outputs": [
    {
     "data": {
      "text/plain": [
       "832"
      ]
     },
     "execution_count": 183,
     "metadata": {},
     "output_type": "execute_result"
    }
   ],
   "source": [
    "len(df[(df.lat==0) & (df.lon==0)])"
   ]
  },
  {
   "cell_type": "code",
   "execution_count": 184,
   "metadata": {
    "collapsed": true
   },
   "outputs": [],
   "source": [
    "# see if can geocode remaining 832 buildings\n",
    "for i, row in df.iterrows():\n",
    "    if (row.lat==0) & (row.lon==0):\n",
    "        res = geocoder.google(row['Building']+', '+str(row['City'])).latlng\n",
    "        if len(res)==2:\n",
    "            df.loc[i, 'lat'] = res[0]\n",
    "            df.loc[i, 'lon'] = res[1]\n",
    "        else:\n",
    "            res = geocoder.google(row['Building']+', '+str(row['city_ns'])).latlng\n",
    "            if len(res)==2:\n",
    "                df.loc[i, 'lat'] = res[0]\n",
    "                df.loc[i, 'lon'] = res[1]"
   ]
  },
  {
   "cell_type": "code",
   "execution_count": 185,
   "metadata": {
    "collapsed": false
   },
   "outputs": [
    {
     "data": {
      "text/plain": [
       "828"
      ]
     },
     "execution_count": 185,
     "metadata": {},
     "output_type": "execute_result"
    }
   ],
   "source": [
    "len(df[(df.lat==0) & (df.lon==0)])"
   ]
  },
  {
   "cell_type": "code",
   "execution_count": 186,
   "metadata": {
    "collapsed": false
   },
   "outputs": [
    {
     "data": {
      "text/html": [
       "<div>\n",
       "<table border=\"1\" class=\"dataframe\">\n",
       "  <thead>\n",
       "    <tr style=\"text-align: right;\">\n",
       "      <th></th>\n",
       "      <th>Rank</th>\n",
       "      <th>Building</th>\n",
       "      <th>City</th>\n",
       "      <th>Height_m</th>\n",
       "      <th>Height_ft</th>\n",
       "      <th>Floors</th>\n",
       "      <th>DateComplete</th>\n",
       "      <th>Material</th>\n",
       "      <th>Use</th>\n",
       "      <th>city_ns</th>\n",
       "      <th>lat</th>\n",
       "      <th>lon</th>\n",
       "    </tr>\n",
       "  </thead>\n",
       "  <tbody>\n",
       "    <tr>\n",
       "      <th>40</th>\n",
       "      <td>41</td>\n",
       "      <td>Wuxi International Finance Square</td>\n",
       "      <td>Wuxi</td>\n",
       "      <td>339.0</td>\n",
       "      <td>1,112</td>\n",
       "      <td>68</td>\n",
       "      <td>2014</td>\n",
       "      <td>composite</td>\n",
       "      <td>hotel / office</td>\n",
       "      <td>wuxi</td>\n",
       "      <td>0</td>\n",
       "      <td>0</td>\n",
       "    </tr>\n",
       "    <tr>\n",
       "      <th>41</th>\n",
       "      <td>42</td>\n",
       "      <td>C hongqing World Financial C enter</td>\n",
       "      <td>C hongqing</td>\n",
       "      <td>338.9</td>\n",
       "      <td>1,112</td>\n",
       "      <td>72</td>\n",
       "      <td>2015</td>\n",
       "      <td>composite</td>\n",
       "      <td>office</td>\n",
       "      <td>chongqing</td>\n",
       "      <td>0</td>\n",
       "      <td>0</td>\n",
       "    </tr>\n",
       "    <tr>\n",
       "      <th>51</th>\n",
       "      <td>52</td>\n",
       "      <td>Wuxi Suning Plaza 1</td>\n",
       "      <td>Wuxi</td>\n",
       "      <td>328.0</td>\n",
       "      <td>1,076</td>\n",
       "      <td>67</td>\n",
       "      <td>2014</td>\n",
       "      <td>composite</td>\n",
       "      <td>hotel / serviced apartments / office</td>\n",
       "      <td>wuxi</td>\n",
       "      <td>0</td>\n",
       "      <td>0</td>\n",
       "    </tr>\n",
       "    <tr>\n",
       "      <th>72</th>\n",
       "      <td>73</td>\n",
       "      <td>The Franklin - North Tower</td>\n",
       "      <td>C hicago</td>\n",
       "      <td>306.9</td>\n",
       "      <td>1,007</td>\n",
       "      <td>60</td>\n",
       "      <td>1989</td>\n",
       "      <td>composite</td>\n",
       "      <td>office</td>\n",
       "      <td>chicago</td>\n",
       "      <td>0</td>\n",
       "      <td>0</td>\n",
       "    </tr>\n",
       "    <tr>\n",
       "      <th>74</th>\n",
       "      <td>75</td>\n",
       "      <td>One57</td>\n",
       "      <td>New York C ity</td>\n",
       "      <td>306.1</td>\n",
       "      <td>1,004</td>\n",
       "      <td>75</td>\n",
       "      <td>2014</td>\n",
       "      <td>steel/concrete</td>\n",
       "      <td>residential / hotel</td>\n",
       "      <td>newyorkcity</td>\n",
       "      <td>0</td>\n",
       "      <td>0</td>\n",
       "    </tr>\n",
       "  </tbody>\n",
       "</table>\n",
       "</div>"
      ],
      "text/plain": [
       "    Rank                            Building            City  Height_m  \\\n",
       "40    41   Wuxi International Finance Square            Wuxi     339.0   \n",
       "41    42  C hongqing World Financial C enter      C hongqing     338.9   \n",
       "51    52                 Wuxi Suning Plaza 1            Wuxi     328.0   \n",
       "72    73          The Franklin - North Tower        C hicago     306.9   \n",
       "74    75                               One57  New York C ity     306.1   \n",
       "\n",
       "   Height_ft Floors  DateComplete        Material  \\\n",
       "40     1,112     68          2014       composite   \n",
       "41     1,112     72          2015       composite   \n",
       "51     1,076     67          2014       composite   \n",
       "72     1,007     60          1989       composite   \n",
       "74     1,004     75          2014  steel/concrete   \n",
       "\n",
       "                                     Use      city_ns  lat  lon  \n",
       "40                        hotel / office         wuxi    0    0  \n",
       "41                                office    chongqing    0    0  \n",
       "51  hotel / serviced apartments / office         wuxi    0    0  \n",
       "72                                office      chicago    0    0  \n",
       "74                   residential / hotel  newyorkcity    0    0  "
      ]
     },
     "execution_count": 186,
     "metadata": {},
     "output_type": "execute_result"
    }
   ],
   "source": [
    "df[(df.lat==0) & (df.lon==0)].head()"
   ]
  },
  {
   "cell_type": "code",
   "execution_count": 189,
   "metadata": {
    "collapsed": false
   },
   "outputs": [
    {
     "data": {
      "text/plain": [
       "[]"
      ]
     },
     "execution_count": 189,
     "metadata": {},
     "output_type": "execute_result"
    }
   ],
   "source": [
    "#geocoder.google('The Franklin North Tower, Chicago').latlng\n",
    "geocoder.google('One 57, New York City').latlng"
   ]
  },
  {
   "cell_type": "code",
   "execution_count": 190,
   "metadata": {
    "collapsed": true
   },
   "outputs": [],
   "source": [
    "# interim dataset v1 - with geocoding attempted\n",
    "df.to_csv('interim_data/buildings_geocoded_v1.csv', index=False, index_label=False, encoding='UTF-8')"
   ]
  },
  {
   "cell_type": "markdown",
   "metadata": {
    "collapsed": false
   },
   "source": [
    "#### cities from Geonames database\n",
    "http://download.geonames.org/export/dump/"
   ]
  },
  {
   "cell_type": "code",
   "execution_count": 8,
   "metadata": {
    "collapsed": false
   },
   "outputs": [
    {
     "name": "stdout",
     "output_type": "stream",
     "text": [
      "<class 'pandas.core.frame.DataFrame'>\n",
      "Int64Index: 23018 entries, 0 to 23017\n",
      "Data columns (total 19 columns):\n",
      "geonameid         23018 non-null int64\n",
      "name              23018 non-null object\n",
      "asciiname         23018 non-null object\n",
      "alternatenames    20350 non-null object\n",
      "city_lat          23018 non-null float64\n",
      "city_lon          23018 non-null float64\n",
      "f_class           23018 non-null object\n",
      "f_code            23018 non-null object\n",
      "country_code      23005 non-null object\n",
      "cc2               250 non-null object\n",
      "admin1            23011 non-null object\n",
      "admin2            14301 non-null object\n",
      "admin3            4875 non-null object\n",
      "admin4            1916 non-null object\n",
      "population        23018 non-null int64\n",
      "elevation         3509 non-null float64\n",
      "dem               23018 non-null int64\n",
      "timezone          23018 non-null object\n",
      "mod_date          23018 non-null object\n",
      "dtypes: float64(3), int64(3), object(13)\n",
      "memory usage: 3.5+ MB\n"
     ]
    }
   ],
   "source": [
    "# read in city location data (from geonames)\n",
    "cities = pd.read_table('raw_data/cities15000.txt', header=None, \n",
    "                       names=['geonameid', 'name', 'asciiname', 'alternatenames', 'city_lat', 'city_lon', 'f_class',\n",
    "                              'f_code', 'country_code','cc2', 'admin1', 'admin2', 'admin3', 'admin4', 'population', \n",
    "                              'elevation', 'dem', 'timezone', 'mod_date'])\n",
    "\n",
    "cities.info()"
   ]
  },
  {
   "cell_type": "code",
   "execution_count": 11,
   "metadata": {
    "collapsed": true
   },
   "outputs": [],
   "source": [
    "# for population density estimates\n",
    "import geopandas as gpd"
   ]
  },
  {
   "cell_type": "code",
   "execution_count": 12,
   "metadata": {
    "collapsed": false
   },
   "outputs": [],
   "source": [
    "cities_PD = gpd.read_file('interim_data/city_popdens.geojson')"
   ]
  },
  {
   "cell_type": "code",
   "execution_count": 13,
   "metadata": {
    "collapsed": false
   },
   "outputs": [
    {
     "name": "stdout",
     "output_type": "stream",
     "text": [
      "[u'field_1', u'field_10', u'field_11', u'field_12', u'field_13', u'field_14', u'field_15', u'field_16', u'field_17', u'field_18', u'field_19', u'field_2', u'field_3', u'field_4', u'field_5', u'field_6', u'field_7', u'field_8', u'field_9', 'geometry', u'glds00ag']\n"
     ]
    }
   ],
   "source": [
    "print cities_PD.columns.tolist()"
   ]
  },
  {
   "cell_type": "code",
   "execution_count": 14,
   "metadata": {
    "collapsed": false
   },
   "outputs": [
    {
     "name": "stdout",
     "output_type": "stream",
     "text": [
      "{u'field_8': 'timezone', u'field_6': 'elevation', u'field_9': 'mod_date', 'geometry': 'geometry', u'glds00ag': 'popdens', u'field_10': 'name', u'field_11': 'asciiname', u'field_12': 'alternatenames', u'field_13': 'city_lat', u'field_14': 'city_lon', u'field_15': 'f_class', u'field_16': 'f_code', u'field_17': 'country_code', u'field_18': 'cc2', u'field_19': 'admin1', u'field_4': 'admin4', u'field_5': 'population', u'field_2': 'admin2', u'field_3': 'admin3', u'field_7': 'dem', u'field_1': 'geonameid'}\n"
     ]
    }
   ],
   "source": [
    "cols = dict(zip(cities_PD.columns.tolist(), ['geonameid', 'name', 'asciiname', 'alternatenames','city_lat', 'city_lon', 'f_class', 'f_code',\n",
    " 'country_code','cc2', 'admin1', 'admin2', 'admin3', 'admin4', 'population', 'elevation', 'dem', \n",
    " 'timezone', 'mod_date', 'geometry', 'popdens']))\n",
    "print cols"
   ]
  },
  {
   "cell_type": "code",
   "execution_count": 15,
   "metadata": {
    "collapsed": false
   },
   "outputs": [
    {
     "name": "stdout",
     "output_type": "stream",
     "text": [
      "<class 'geopandas.geodataframe.GeoDataFrame'>\n",
      "Int64Index: 22970 entries, 0 to 22969\n",
      "Data columns (total 21 columns):\n",
      "geonameid         22970 non-null int64\n",
      "name              249 non-null object\n",
      "asciiname         22963 non-null object\n",
      "alternatenames    14324 non-null object\n",
      "city_lat          4868 non-null object\n",
      "city_lon          1916 non-null object\n",
      "f_class           22970 non-null int64\n",
      "f_code            3486 non-null object\n",
      "country_code      22970 non-null int64\n",
      "cc2               22970 non-null object\n",
      "admin1            22970 non-null object\n",
      "admin2            22970 non-null object\n",
      "admin3            22970 non-null object\n",
      "admin4            20302 non-null object\n",
      "population        22970 non-null float64\n",
      "elevation         22970 non-null float64\n",
      "dem               22970 non-null object\n",
      "timezone          22970 non-null object\n",
      "mod_date          22970 non-null object\n",
      "geometry          22970 non-null object\n",
      "popdens           22961 non-null float64\n",
      "dtypes: float64(3), int64(3), object(15)\n",
      "memory usage: 3.9+ MB\n"
     ]
    }
   ],
   "source": [
    "cities_PD.rename(columns=cols, inplace=True)\n",
    "cities_PD.info()"
   ]
  },
  {
   "cell_type": "code",
   "execution_count": 16,
   "metadata": {
    "collapsed": false
   },
   "outputs": [
    {
     "name": "stdout",
     "output_type": "stream",
     "text": [
      "<class 'pandas.core.frame.DataFrame'>\n",
      "Int64Index: 22970 entries, 0 to 22969\n",
      "Data columns (total 20 columns):\n",
      "geonameid         22970 non-null int64\n",
      "name              22970 non-null object\n",
      "asciiname         22970 non-null object\n",
      "alternatenames    20302 non-null object\n",
      "city_lat          22970 non-null float64\n",
      "city_lon          22970 non-null float64\n",
      "f_class           22970 non-null object\n",
      "f_code            22970 non-null object\n",
      "country_code      22957 non-null object\n",
      "cc2               249 non-null object\n",
      "admin1            22963 non-null object\n",
      "admin2            14266 non-null object\n",
      "admin3            4868 non-null object\n",
      "admin4            1916 non-null object\n",
      "population        22970 non-null int64\n",
      "elevation         3486 non-null float64\n",
      "dem               22970 non-null int64\n",
      "timezone          22970 non-null object\n",
      "mod_date          22970 non-null object\n",
      "popdens           22961 non-null float64\n",
      "dtypes: float64(4), int64(3), object(13)\n",
      "memory usage: 3.7+ MB\n"
     ]
    }
   ],
   "source": [
    "cities = pd.merge(cities, cities_PD.loc[:,('geonameid', 'popdens')], left_on='geonameid', right_on='geonameid')\n",
    "cities.info()"
   ]
  },
  {
   "cell_type": "code",
   "execution_count": 17,
   "metadata": {
    "collapsed": false
   },
   "outputs": [],
   "source": [
    "# create lower-case, no space columns for data join\n",
    "df['city_ns'] = df.City.apply(lambda x: x.replace(\" \", \"\").lower())\n",
    "cities['city_ns'] = cities.asciiname.apply(lambda x: x.replace(\" \", \"\").lower())"
   ]
  },
  {
   "cell_type": "code",
   "execution_count": 18,
   "metadata": {
    "collapsed": false
   },
   "outputs": [
    {
     "name": "stdout",
     "output_type": "stream",
     "text": [
      "<class 'pandas.core.frame.DataFrame'>\n",
      "Int64Index: 3721 entries, 0 to 3720\n",
      "Data columns (total 18 columns):\n",
      "Rank            3721 non-null float64\n",
      "Building        3721 non-null object\n",
      "City            3721 non-null object\n",
      "Height_m        3721 non-null float64\n",
      "Height_ft       3721 non-null object\n",
      "Floors          3721 non-null object\n",
      "DateComplete    3721 non-null float64\n",
      "Material        2879 non-null object\n",
      "Use             3705 non-null object\n",
      "city_ns         3721 non-null object\n",
      "name            3542 non-null object\n",
      "city_lat        3542 non-null float64\n",
      "city_lon        3542 non-null float64\n",
      "country_code    3542 non-null object\n",
      "population      3542 non-null float64\n",
      "dem             3542 non-null float64\n",
      "timezone        3542 non-null object\n",
      "popdens         3542 non-null float64\n",
      "dtypes: float64(8), object(10)\n",
      "memory usage: 552.3+ KB\n"
     ]
    }
   ],
   "source": [
    "# merge on stripped down city names\n",
    "df_full = pd.merge(df, cities.loc[:,('name', 'city_lat', 'city_lon', 'country_code', 'population', \n",
    "                                     'dem', 'timezone', 'city_ns', 'popdens')], \n",
    "                   how='outer', left_on='city_ns', right_on='city_ns')\n",
    "df_full = df_full[~df_full.Building.isnull()]\n",
    "df_full.info()"
   ]
  },
  {
   "cell_type": "code",
   "execution_count": 254,
   "metadata": {
    "collapsed": true
   },
   "outputs": [],
   "source": [
    "# Haversine formula example in Python: https://gist.github.com/rochacbruno/2883505\n",
    "# Author: Wayne Dyck\n",
    "\n",
    "import math\n",
    "\n",
    "def distance(origin, destination):\n",
    "    lat1, lon1 = origin\n",
    "    lat2, lon2 = destination\n",
    "    radius = 6371 # km\n",
    "\n",
    "    dlat = math.radians(lat2-lat1)\n",
    "    dlon = math.radians(lon2-lon1)\n",
    "    a = math.sin(dlat/2) * math.sin(dlat/2) + math.cos(math.radians(lat1)) \\\n",
    "        * math.cos(math.radians(lat2)) * math.sin(dlon/2) * math.sin(dlon/2)\n",
    "    c = 2 * math.atan2(math.sqrt(a), math.sqrt(1-a))\n",
    "    d = radius * c\n",
    "\n",
    "    return d"
   ]
  },
  {
   "cell_type": "code",
   "execution_count": 255,
   "metadata": {
    "collapsed": false
   },
   "outputs": [],
   "source": [
    "# only useful after geocoding\n",
    "#df_full['dist_to_city'] = df_full.apply(lambda r: distance((r.lat, r.lon), (r.city_lat, r.city_lon)), axis=1)"
   ]
  },
  {
   "cell_type": "code",
   "execution_count": 19,
   "metadata": {
    "collapsed": false
   },
   "outputs": [],
   "source": [
    "# WITH GEOCODING sort rows by building and distance then descending population\n",
    "# df_full.sort_values(['Building', 'dist_to_city', 'population'], ascending=[True, True, False], inplace=True)\n",
    "\n",
    "# WITHOUT GEOCODING, remove distance parameter\n",
    "df_full.sort_values(['Building', 'population'], ascending=[True, False], inplace=True)\n",
    "df_full = df_full[~df_full.duplicated(['Rank', 'Building', 'City', 'Height_m', 'Height_ft','Floors', \n",
    "                                       'DateComplete', 'Material', 'Use'])]"
   ]
  },
  {
   "cell_type": "code",
   "execution_count": 20,
   "metadata": {
    "collapsed": false
   },
   "outputs": [
    {
     "data": {
      "text/html": [
       "<div>\n",
       "<table border=\"1\" class=\"dataframe\">\n",
       "  <thead>\n",
       "    <tr style=\"text-align: right;\">\n",
       "      <th></th>\n",
       "      <th>Rank</th>\n",
       "      <th>Building</th>\n",
       "      <th>City</th>\n",
       "      <th>Height_m</th>\n",
       "      <th>Height_ft</th>\n",
       "      <th>Floors</th>\n",
       "      <th>DateComplete</th>\n",
       "      <th>Material</th>\n",
       "      <th>Use</th>\n",
       "      <th>city_ns</th>\n",
       "      <th>name</th>\n",
       "      <th>city_lat</th>\n",
       "      <th>city_lon</th>\n",
       "      <th>country_code</th>\n",
       "      <th>population</th>\n",
       "      <th>dem</th>\n",
       "      <th>timezone</th>\n",
       "      <th>popdens</th>\n",
       "    </tr>\n",
       "  </thead>\n",
       "  <tbody>\n",
       "    <tr>\n",
       "      <th>2893</th>\n",
       "      <td>292</td>\n",
       "      <td>0</td>\n",
       "      <td>Brisbane</td>\n",
       "      <td>249.0</td>\n",
       "      <td>817</td>\n",
       "      <td>81</td>\n",
       "      <td>2014</td>\n",
       "      <td>concrete</td>\n",
       "      <td>residential</td>\n",
       "      <td>brisbane</td>\n",
       "      <td>Brisbane</td>\n",
       "      <td>-27.46794</td>\n",
       "      <td>153.02809</td>\n",
       "      <td>AU</td>\n",
       "      <td>2189878</td>\n",
       "      <td>27</td>\n",
       "      <td>Australia/Brisbane</td>\n",
       "      <td>2875.931</td>\n",
       "    </tr>\n",
       "    <tr>\n",
       "      <th>871</th>\n",
       "      <td>1368</td>\n",
       "      <td>#1 Zhujiang Road Plaza</td>\n",
       "      <td>Nanjing</td>\n",
       "      <td>186.1</td>\n",
       "      <td>611</td>\n",
       "      <td>53</td>\n",
       "      <td>2007</td>\n",
       "      <td>NaN</td>\n",
       "      <td>office / hotel / retail</td>\n",
       "      <td>nanjing</td>\n",
       "      <td>Nanjing</td>\n",
       "      <td>32.06167</td>\n",
       "      <td>118.77778</td>\n",
       "      <td>CN</td>\n",
       "      <td>7165292</td>\n",
       "      <td>22</td>\n",
       "      <td>Asia/Shanghai</td>\n",
       "      <td>1789.877</td>\n",
       "    </tr>\n",
       "    <tr>\n",
       "      <th>470</th>\n",
       "      <td>3212</td>\n",
       "      <td>1 Battery Park Plaza</td>\n",
       "      <td>New York C ity</td>\n",
       "      <td>151.0</td>\n",
       "      <td>495</td>\n",
       "      <td>35</td>\n",
       "      <td>1971</td>\n",
       "      <td>NaN</td>\n",
       "      <td>office</td>\n",
       "      <td>newyorkcity</td>\n",
       "      <td>New York City</td>\n",
       "      <td>40.71427</td>\n",
       "      <td>-74.00597</td>\n",
       "      <td>US</td>\n",
       "      <td>8175133</td>\n",
       "      <td>57</td>\n",
       "      <td>America/New_York</td>\n",
       "      <td>14486.260</td>\n",
       "    </tr>\n",
       "    <tr>\n",
       "      <th>426</th>\n",
       "      <td>2330</td>\n",
       "      <td>1 Brooklyn Bridge Plaza</td>\n",
       "      <td>New York C ity</td>\n",
       "      <td>164.9</td>\n",
       "      <td>541</td>\n",
       "      <td>42</td>\n",
       "      <td>1976</td>\n",
       "      <td>NaN</td>\n",
       "      <td>office</td>\n",
       "      <td>newyorkcity</td>\n",
       "      <td>New York City</td>\n",
       "      <td>40.71427</td>\n",
       "      <td>-74.00597</td>\n",
       "      <td>US</td>\n",
       "      <td>8175133</td>\n",
       "      <td>57</td>\n",
       "      <td>America/New_York</td>\n",
       "      <td>14486.260</td>\n",
       "    </tr>\n",
       "    <tr>\n",
       "      <th>343</th>\n",
       "      <td>1148</td>\n",
       "      <td>1 Dag Hammarskjold Plaza</td>\n",
       "      <td>New York C ity</td>\n",
       "      <td>194.2</td>\n",
       "      <td>637</td>\n",
       "      <td>48</td>\n",
       "      <td>1972</td>\n",
       "      <td>NaN</td>\n",
       "      <td>office</td>\n",
       "      <td>newyorkcity</td>\n",
       "      <td>New York City</td>\n",
       "      <td>40.71427</td>\n",
       "      <td>-74.00597</td>\n",
       "      <td>US</td>\n",
       "      <td>8175133</td>\n",
       "      <td>57</td>\n",
       "      <td>America/New_York</td>\n",
       "      <td>14486.260</td>\n",
       "    </tr>\n",
       "  </tbody>\n",
       "</table>\n",
       "</div>"
      ],
      "text/plain": [
       "      Rank                  Building            City  Height_m Height_ft  \\\n",
       "2893   292                         0        Brisbane     249.0       817   \n",
       "871   1368    #1 Zhujiang Road Plaza         Nanjing     186.1       611   \n",
       "470   3212      1 Battery Park Plaza  New York C ity     151.0       495   \n",
       "426   2330   1 Brooklyn Bridge Plaza  New York C ity     164.9       541   \n",
       "343   1148  1 Dag Hammarskjold Plaza  New York C ity     194.2       637   \n",
       "\n",
       "     Floors  DateComplete  Material                      Use      city_ns  \\\n",
       "2893     81          2014  concrete              residential     brisbane   \n",
       "871      53          2007       NaN  office / hotel / retail      nanjing   \n",
       "470      35          1971       NaN                   office  newyorkcity   \n",
       "426      42          1976       NaN                   office  newyorkcity   \n",
       "343      48          1972       NaN                   office  newyorkcity   \n",
       "\n",
       "               name  city_lat   city_lon country_code  population  dem  \\\n",
       "2893       Brisbane -27.46794  153.02809           AU     2189878   27   \n",
       "871         Nanjing  32.06167  118.77778           CN     7165292   22   \n",
       "470   New York City  40.71427  -74.00597           US     8175133   57   \n",
       "426   New York City  40.71427  -74.00597           US     8175133   57   \n",
       "343   New York City  40.71427  -74.00597           US     8175133   57   \n",
       "\n",
       "                timezone    popdens  \n",
       "2893  Australia/Brisbane   2875.931  \n",
       "871        Asia/Shanghai   1789.877  \n",
       "470     America/New_York  14486.260  \n",
       "426     America/New_York  14486.260  \n",
       "343     America/New_York  14486.260  "
      ]
     },
     "execution_count": 20,
     "metadata": {},
     "output_type": "execute_result"
    }
   ],
   "source": [
    "df_full.head()"
   ]
  },
  {
   "cell_type": "code",
   "execution_count": 21,
   "metadata": {
    "collapsed": false
   },
   "outputs": [
    {
     "name": "stdout",
     "output_type": "stream",
     "text": [
      "<class 'pandas.core.frame.DataFrame'>\n",
      "Int64Index: 3356 entries, 2893 to 1877\n",
      "Data columns (total 18 columns):\n",
      "Rank            3356 non-null float64\n",
      "Building        3356 non-null object\n",
      "City            3356 non-null object\n",
      "Height_m        3356 non-null float64\n",
      "Height_ft       3356 non-null object\n",
      "Floors          3356 non-null object\n",
      "DateComplete    3356 non-null float64\n",
      "Material        2572 non-null object\n",
      "Use             3340 non-null object\n",
      "city_ns         3356 non-null object\n",
      "name            3177 non-null object\n",
      "city_lat        3177 non-null float64\n",
      "city_lon        3177 non-null float64\n",
      "country_code    3177 non-null object\n",
      "population      3177 non-null float64\n",
      "dem             3177 non-null float64\n",
      "timezone        3177 non-null object\n",
      "popdens         3177 non-null float64\n",
      "dtypes: float64(8), object(10)\n",
      "memory usage: 498.2+ KB\n"
     ]
    }
   ],
   "source": [
    "df_full.info()"
   ]
  },
  {
   "cell_type": "code",
   "execution_count": 198,
   "metadata": {
    "collapsed": false
   },
   "outputs": [
    {
     "name": "stdout",
     "output_type": "stream",
     "text": [
      "count     122.000000\n",
      "mean     1572.860656\n",
      "std       930.895750\n",
      "min        85.000000\n",
      "25%       715.000000\n",
      "50%      1566.500000\n",
      "75%      2403.750000\n",
      "max      3329.000000\n",
      "Name: Rank, dtype: float64\n"
     ]
    }
   ],
   "source": [
    "# buildings of which rank do not have associated pop values\n",
    "print df_full[df_full.population.isnull()].Rank.describe()"
   ]
  },
  {
   "cell_type": "code",
   "execution_count": 258,
   "metadata": {
    "collapsed": false
   },
   "outputs": [
    {
     "name": "stdout",
     "output_type": "stream",
     "text": [
      "<class 'pandas.core.frame.DataFrame'>\n",
      "Int64Index: 3177 entries, 2893 to 1877\n",
      "Data columns (total 13 columns):\n",
      "Rank            3177 non-null float64\n",
      "Building        3177 non-null object\n",
      "name            3177 non-null object\n",
      "Height_m        3177 non-null float64\n",
      "Floors          3177 non-null object\n",
      "city_lat        3177 non-null float64\n",
      "city_lon        3177 non-null float64\n",
      "lat             3177 non-null float64\n",
      "lon             3177 non-null float64\n",
      "population      3177 non-null float64\n",
      "dem             3177 non-null float64\n",
      "dist_to_city    3177 non-null float64\n",
      "popdens         3177 non-null float64\n",
      "dtypes: float64(10), object(3)\n",
      "memory usage: 347.5+ KB\n"
     ]
    }
   ],
   "source": [
    "# select out subset of maybe useful columns and drop records that have missing data\n",
    "df_v1 = df_full.loc[:,('Rank', 'Building', 'name', 'Height_m', 'Floors', 'city_lat', 'city_lon', 'lat', 'lon',\n",
    "                      'population', 'dem', 'dist_to_city', 'popdens')].dropna()\n",
    "df_v1.info()"
   ]
  },
  {
   "cell_type": "code",
   "execution_count": 259,
   "metadata": {
    "collapsed": false
   },
   "outputs": [],
   "source": [
    "# dataset to use\n",
    "df_v1.to_csv('interim_data/tall_buildings_DB_v0328_withPopDens.csv', index=False, index_label=False, encoding='UTF-8')"
   ]
  },
  {
   "cell_type": "markdown",
   "metadata": {},
   "source": [
    "#### some plots"
   ]
  },
  {
   "cell_type": "code",
   "execution_count": 202,
   "metadata": {
    "collapsed": false
   },
   "outputs": [],
   "source": [
    "import matplotlib.pyplot as plt\n",
    "import seaborn as sns\n",
    "sns.set(context='notebook', font_scale=1.5)\n",
    "%matplotlib inline"
   ]
  },
  {
   "cell_type": "code",
   "execution_count": 203,
   "metadata": {
    "collapsed": false
   },
   "outputs": [
    {
     "data": {
      "text/plain": [
       "(-1, 25)"
      ]
     },
     "execution_count": 203,
     "metadata": {},
     "output_type": "execute_result"
    },
    {
     "data": {
      "image/png": "[encoded data removed]",
      "text/plain": [
       "<matplotlib.figure.Figure at 0x7fe915226c50>"
      ]
     },
     "metadata": {},
     "output_type": "display_data"
    }
   ],
   "source": [
    "# simple population vs individual building heights\n",
    "#plt.rcParams.update({'font.size': 16})\n",
    "f, ax = plt.subplots(figsize=(14,8))\n",
    "\n",
    "ax.plot(df_v1.population/1000000, df_v1.Height_m, 'ob', markersize=5)\n",
    "ax.set_ylabel('Building height (meters)')\n",
    "ax.set_xlabel('City population (millions)')\n",
    "ax.set_title('City population vs building height')\n",
    "ax.set_xlim(-1, 25)"
   ]
  },
  {
   "cell_type": "code",
   "execution_count": 204,
   "metadata": {
    "collapsed": false
   },
   "outputs": [
    {
     "data": {
      "text/plain": [
       "Rank                              755\n",
       "Building        21st C entury Mansion\n",
       "name                         Shanghai\n",
       "Height_m                          210\n",
       "Floors                             50\n",
       "city_lat                      31.2222\n",
       "city_lon                      121.458\n",
       "lat                           31.2304\n",
       "lon                           121.474\n",
       "population                2.23155e+07\n",
       "dem                                12\n",
       "dist_to_city                  1.74426\n",
       "Name: 186, dtype: object"
      ]
     },
     "execution_count": 204,
     "metadata": {},
     "output_type": "execute_result"
    }
   ],
   "source": [
    "df_v1.loc[df_v1.population.idxmax(),:]"
   ]
  },
  {
   "cell_type": "code",
   "execution_count": 205,
   "metadata": {
    "collapsed": false
   },
   "outputs": [
    {
     "data": {
      "text/html": [
       "<div>\n",
       "<table border=\"1\" class=\"dataframe\">\n",
       "  <thead>\n",
       "    <tr style=\"text-align: right;\">\n",
       "      <th></th>\n",
       "      <th>Height_m</th>\n",
       "      <th>population</th>\n",
       "    </tr>\n",
       "    <tr>\n",
       "      <th>name</th>\n",
       "      <th></th>\n",
       "      <th></th>\n",
       "    </tr>\n",
       "  </thead>\n",
       "  <tbody>\n",
       "    <tr>\n",
       "      <th>Abu Dhabi</th>\n",
       "      <td>381.2</td>\n",
       "      <td>603492</td>\n",
       "    </tr>\n",
       "    <tr>\n",
       "      <th>Ajman</th>\n",
       "      <td>213.0</td>\n",
       "      <td>226172</td>\n",
       "    </tr>\n",
       "    <tr>\n",
       "      <th>Al Fujayrah</th>\n",
       "      <td>170.0</td>\n",
       "      <td>62415</td>\n",
       "    </tr>\n",
       "    <tr>\n",
       "      <th>Albany</th>\n",
       "      <td>179.5</td>\n",
       "      <td>97856</td>\n",
       "    </tr>\n",
       "    <tr>\n",
       "      <th>Almaty</th>\n",
       "      <td>168.0</td>\n",
       "      <td>2000900</td>\n",
       "    </tr>\n",
       "  </tbody>\n",
       "</table>\n",
       "</div>"
      ],
      "text/plain": [
       "             Height_m  population\n",
       "name                             \n",
       "Abu Dhabi       381.2      603492\n",
       "Ajman           213.0      226172\n",
       "Al Fujayrah     170.0       62415\n",
       "Albany          179.5       97856\n",
       "Almaty          168.0     2000900"
      ]
     },
     "execution_count": 205,
     "metadata": {},
     "output_type": "execute_result"
    }
   ],
   "source": [
    "tallest = df_v1.groupby('name')['Height_m', 'population'].max()\n",
    "tallest.head()"
   ]
  },
  {
   "cell_type": "code",
   "execution_count": 206,
   "metadata": {
    "collapsed": false
   },
   "outputs": [
    {
     "data": {
      "text/plain": [
       "(-1, 25)"
      ]
     },
     "execution_count": 206,
     "metadata": {},
     "output_type": "execute_result"
    },
    {
     "data": {
      "image/png": "[encoded data removed]",
      "text/plain": [
       "<matplotlib.figure.Figure at 0x7fe902eeb310>"
      ]
     },
     "metadata": {},
     "output_type": "display_data"
    }
   ],
   "source": [
    "# simple population vs tallest building in city\n",
    "f, ax = plt.subplots(figsize=(14,8))\n",
    "\n",
    "ax.plot(tallest.population/1000000, tallest.Height_m, 'ob', markersize=5)\n",
    "ax.set_ylabel('Building height (meters)')\n",
    "ax.set_xlabel('City population (millions)')\n",
    "ax.set_title('City population vs tallest building height')\n",
    "ax.set_xlim(-1, 25)"
   ]
  },
  {
   "cell_type": "code",
   "execution_count": 207,
   "metadata": {
    "collapsed": false
   },
   "outputs": [
    {
     "data": {
      "text/plain": [
       "<matplotlib.text.Text at 0x7fe903330290>"
      ]
     },
     "execution_count": 207,
     "metadata": {},
     "output_type": "execute_result"
    },
    {
     "data": {
      "image/png": "[encoded data removed]",
      "text/plain": [
       "<matplotlib.figure.Figure at 0x7fe903148110>"
      ]
     },
     "metadata": {},
     "output_type": "display_data"
    }
   ],
   "source": [
    "# simple log-log population vs tallest building in city\n",
    "import numpy as np\n",
    "plt.rcParams.update({'font.size': 16})\n",
    "f, ax = plt.subplots(figsize=(14,8))\n",
    "\n",
    "ax.plot(np.log(tallest.population), np.log(tallest.Height_m), 'ob', markersize=5)\n",
    "ax.set_ylabel('log(Building height (meters))')\n",
    "ax.set_xlabel('log(City population)')\n",
    "ax.set_title('City population vs tallest building height: log-log')\n"
   ]
  },
  {
   "cell_type": "code",
   "execution_count": 208,
   "metadata": {
    "collapsed": false
   },
   "outputs": [
    {
     "data": {
      "text/html": [
       "<div>\n",
       "<table border=\"1\" class=\"dataframe\">\n",
       "  <thead>\n",
       "    <tr style=\"text-align: right;\">\n",
       "      <th></th>\n",
       "      <th>name</th>\n",
       "      <th>population</th>\n",
       "      <th>NumBldgs</th>\n",
       "      <th>TotBldgHeight</th>\n",
       "      <th>MeanBldgHeight</th>\n",
       "    </tr>\n",
       "  </thead>\n",
       "  <tbody>\n",
       "    <tr>\n",
       "      <th>0</th>\n",
       "      <td>Abu Dhabi</td>\n",
       "      <td>603492</td>\n",
       "      <td>5</td>\n",
       "      <td>1644.7</td>\n",
       "      <td>328.94</td>\n",
       "    </tr>\n",
       "    <tr>\n",
       "      <th>1</th>\n",
       "      <td>Ajman</td>\n",
       "      <td>226172</td>\n",
       "      <td>1</td>\n",
       "      <td>213.0</td>\n",
       "      <td>213.00</td>\n",
       "    </tr>\n",
       "    <tr>\n",
       "      <th>2</th>\n",
       "      <td>Al Fujayrah</td>\n",
       "      <td>62415</td>\n",
       "      <td>2</td>\n",
       "      <td>325.0</td>\n",
       "      <td>162.50</td>\n",
       "    </tr>\n",
       "    <tr>\n",
       "      <th>3</th>\n",
       "      <td>Albany</td>\n",
       "      <td>97856</td>\n",
       "      <td>1</td>\n",
       "      <td>179.5</td>\n",
       "      <td>179.50</td>\n",
       "    </tr>\n",
       "    <tr>\n",
       "      <th>4</th>\n",
       "      <td>Almaty</td>\n",
       "      <td>2000900</td>\n",
       "      <td>1</td>\n",
       "      <td>168.0</td>\n",
       "      <td>168.00</td>\n",
       "    </tr>\n",
       "  </tbody>\n",
       "</table>\n",
       "</div>"
      ],
      "text/plain": [
       "          name  population  NumBldgs  TotBldgHeight  MeanBldgHeight\n",
       "0    Abu Dhabi      603492         5         1644.7          328.94\n",
       "1        Ajman      226172         1          213.0          213.00\n",
       "2  Al Fujayrah       62415         2          325.0          162.50\n",
       "3       Albany       97856         1          179.5          179.50\n",
       "4       Almaty     2000900         1          168.0          168.00"
      ]
     },
     "execution_count": 208,
     "metadata": {},
     "output_type": "execute_result"
    }
   ],
   "source": [
    "# sort by city and building height\n",
    "df_v1.sort_values(['name', 'Height_m'], inplace=True, ascending=False)\n",
    "# get up to tallest 5 buildings in each city and aggregate building heights\n",
    "tallest_5 = df_v1.groupby(['name', 'population']).head(5).\\\n",
    "groupby(['name', 'population'])['Height_m'].agg({'sum', 'mean', 'count'})\n",
    "tallest_5.rename(columns={'sum': 'TotBldgHeight', 'mean': 'MeanBldgHeight', 'count': 'NumBldgs'}, inplace=True)\n",
    "tallest_5.reset_index(inplace=True)\n",
    "tallest_5.head()"
   ]
  },
  {
   "cell_type": "code",
   "execution_count": 209,
   "metadata": {
    "collapsed": false
   },
   "outputs": [
    {
     "name": "stdout",
     "output_type": "stream",
     "text": [
      "<class 'pandas.core.frame.DataFrame'>\n",
      "Int64Index: 256 entries, 0 to 255\n",
      "Data columns (total 5 columns):\n",
      "name              256 non-null object\n",
      "population        256 non-null float64\n",
      "NumBldgs          256 non-null int64\n",
      "TotBldgHeight     256 non-null float64\n",
      "MeanBldgHeight    256 non-null float64\n",
      "dtypes: float64(3), int64(1), object(1)\n",
      "memory usage: 12.0+ KB\n"
     ]
    }
   ],
   "source": [
    "tallest_5.info()"
   ]
  },
  {
   "cell_type": "code",
   "execution_count": 210,
   "metadata": {
    "collapsed": false
   },
   "outputs": [
    {
     "data": {
      "text/plain": [
       "<matplotlib.legend.Legend at 0x7fe9031538d0>"
      ]
     },
     "execution_count": 210,
     "metadata": {},
     "output_type": "execute_result"
    },
    {
     "data": {
      "image/png": "[encoded data removed]",
      "text/plain": [
       "<matplotlib.figure.Figure at 0x7fe902f0c9d0>"
      ]
     },
     "metadata": {},
     "output_type": "display_data"
    }
   ],
   "source": [
    "# simple population vs sum of tallest 5 buildings in city\n",
    "plt.rcParams.update({'font.size': 14})\n",
    "f, ax = plt.subplots(figsize=(16,8))\n",
    "\n",
    "ax.plot(np.log(tallest_5.population/1000000), tallest_5.TotBldgHeight, 'ob', markersize=5, label='Sum of heights')\n",
    "ax.set_xlabel('log(City population (millions))')\n",
    "ax.set_xlim(-1,25)\n",
    "ax1 = ax.twinx()\n",
    "ax1.plot(np.log(tallest_5.population/1000000), tallest_5.MeanBldgHeight, 'oy', markersize=5, label='Mean of heights')\n",
    "ax.set_title('City population vs tallest 5 building\\'s heights')\n",
    "ax.set_ylabel('Sum building height (meters)')\n",
    "ax1.set_ylabel('Mean building height (meters)')\n",
    "ax.legend(loc=2)\n",
    "ax1.legend(loc=1)"
   ]
  },
  {
   "cell_type": "code",
   "execution_count": 164,
   "metadata": {
    "collapsed": false
   },
   "outputs": [
    {
     "name": "stdout",
     "output_type": "stream",
     "text": [
      "                            OLS Regression Results                            \n",
      "==============================================================================\n",
      "Dep. Variable:          TotBldgHeight   R-squared:                       0.221\n",
      "Model:                            OLS   Adj. R-squared:                  0.218\n",
      "Method:                 Least Squares   F-statistic:                     68.37\n",
      "Date:                Mon, 28 Mar 2016   Prob (F-statistic):           9.18e-15\n",
      "Time:                        00:24:56   Log-Likelihood:                -1819.9\n",
      "No. Observations:                 243   AIC:                             3644.\n",
      "Df Residuals:                     241   BIC:                             3651.\n",
      "Df Model:                           1                                         \n",
      "Covariance Type:            nonrobust                                         \n",
      "==============================================================================\n",
      "                 coef    std err          t      P>|t|      [95.0% Conf. Int.]\n",
      "------------------------------------------------------------------------------\n",
      "Intercept    528.8902     34.935     15.139      0.000       460.073   597.707\n",
      "population   7.21e-05   8.72e-06      8.269      0.000      5.49e-05  8.93e-05\n",
      "==============================================================================\n",
      "Omnibus:                       14.152   Durbin-Watson:                   2.093\n",
      "Prob(Omnibus):                  0.001   Jarque-Bera (JB):               14.933\n",
      "Skew:                           0.587   Prob(JB):                     0.000572\n",
      "Kurtosis:                       3.307   Cond. No.                     5.02e+06\n",
      "==============================================================================\n",
      "\n",
      "Warnings:\n",
      "[1] Standard Errors assume that the covariance matrix of the errors is correctly specified.\n",
      "[2] The condition number is large, 5.02e+06. This might indicate that there are\n",
      "strong multicollinearity or other numerical problems.\n"
     ]
    }
   ],
   "source": [
    "import statsmodels.formula.api as smf\n",
    "#reg_tallest = smf.ols(formula='Height_m ~ population', data=np.log(tallest)).fit()\n",
    "reg_tallest = smf.ols(formula='TotBldgHeight ~ population', data=tallest_5).fit()\n",
    "print reg_tallest.summary()"
   ]
  },
  {
   "cell_type": "code",
   "execution_count": 223,
   "metadata": {
    "collapsed": false
   },
   "outputs": [
    {
     "data": {
      "text/plain": [
       "<matplotlib.legend.Legend at 0x7fe90335c190>"
      ]
     },
     "execution_count": 223,
     "metadata": {},
     "output_type": "execute_result"
    },
    {
     "data": {
      "image/png": "[encoded data removed]",
      "text/plain": [
       "<matplotlib.figure.Figure at 0x7fe902b362d0>"
      ]
     },
     "metadata": {},
     "output_type": "display_data"
    }
   ],
   "source": [
    "# grab and graph tallest 5-9 iteratively\n",
    "\n",
    "plt.rcParams.update({'font.size': 14})\n",
    "f, ax = plt.subplots(figsize=(16,8))\n",
    "ax.set_xlabel('log(City population (millions))')\n",
    "ax.set_ylabel('Sum of building heights (m)')\n",
    "ax.set_title('Total height of tallest buildings vs city population')\n",
    "\n",
    "cols = ['orange', 'b', 'm', 'g', 'r']\n",
    "\n",
    "for i, n in enumerate(range(5, 10, 1)):\n",
    "    tn = df_v1.groupby(['name', 'population']).head(n).\\\n",
    "    groupby(['name', 'population'])['Height_m'].agg({'sum', 'mean', 'count'})\n",
    "    tn.rename(columns={'sum': 'TotBldgHeight', 'mean': 'MeanBldgHeight', 'count': 'NumBldgs'}, inplace=True)\n",
    "    tn.reset_index(inplace=True)\n",
    "    tn = tn[tn.NumBldgs==n]\n",
    "    ax.scatter(np.log(tn.population/1000000), tn.TotBldgHeight, c=cols[i], \n",
    "           label='Tallest {}'.format(n))\n",
    "    \n",
    "ax.legend(loc=2)"
   ]
  },
  {
   "cell_type": "code",
   "execution_count": 224,
   "metadata": {
    "collapsed": false
   },
   "outputs": [
    {
     "name": "stdout",
     "output_type": "stream",
     "text": [
      "<class 'pandas.core.frame.DataFrame'>\n",
      "Int64Index: 2455 entries, 3428 to 1204\n",
      "Data columns (total 12 columns):\n",
      "Rank            2455 non-null float64\n",
      "Building        2455 non-null object\n",
      "name            2455 non-null object\n",
      "Height_m        2455 non-null float64\n",
      "Floors          2455 non-null object\n",
      "city_lat        2455 non-null float64\n",
      "city_lon        2455 non-null float64\n",
      "lat             2455 non-null float64\n",
      "lon             2455 non-null float64\n",
      "population      2455 non-null float64\n",
      "dem             2455 non-null float64\n",
      "dist_to_city    2455 non-null float64\n",
      "dtypes: float64(9), object(3)\n",
      "memory usage: 249.3+ KB\n"
     ]
    }
   ],
   "source": [
    "# gradient of buildings from city center\n",
    "df_grad = df_v1[(df_v1.lat!=0) & (df_v1.lon!=0)]\n",
    "df_grad.info()"
   ]
  },
  {
   "cell_type": "code",
   "execution_count": 232,
   "metadata": {
    "collapsed": false
   },
   "outputs": [
    {
     "data": {
      "text/plain": [
       "<matplotlib.text.Text at 0x7fe902429650>"
      ]
     },
     "execution_count": 232,
     "metadata": {},
     "output_type": "execute_result"
    },
    {
     "data": {
      "image/png": "[encoded data removed]",
      "text/plain": [
       "<matplotlib.figure.Figure at 0x7fe9025d96d0>"
      ]
     },
     "metadata": {},
     "output_type": "display_data"
    }
   ],
   "source": [
    "plt.rcParams.update({'font.size': 14})\n",
    "f, ax = plt.subplots(figsize=(16,8))\n",
    "ax.plot(df_grad.dist_to_city[df_grad.dist_to_city<40], df_grad.Height_m[df_grad.dist_to_city<40], 'ob')\n",
    "ax.set_ylabel('Building height (m)')\n",
    "ax.set_xlabel('Distance from city center (km)')\n",
    "ax.set_title('Buidings vs distance to city')"
   ]
  },
  {
   "cell_type": "code",
   "execution_count": 229,
   "metadata": {
    "collapsed": false
   },
   "outputs": [
    {
     "data": {
      "text/html": [
       "<div>\n",
       "<table border=\"1\" class=\"dataframe\">\n",
       "  <thead>\n",
       "    <tr style=\"text-align: right;\">\n",
       "      <th></th>\n",
       "      <th>Rank</th>\n",
       "      <th>Building</th>\n",
       "      <th>name</th>\n",
       "      <th>Height_m</th>\n",
       "      <th>Floors</th>\n",
       "      <th>city_lat</th>\n",
       "      <th>city_lon</th>\n",
       "      <th>lat</th>\n",
       "      <th>lon</th>\n",
       "      <th>population</th>\n",
       "      <th>dem</th>\n",
       "      <th>dist_to_city</th>\n",
       "    </tr>\n",
       "  </thead>\n",
       "  <tbody>\n",
       "    <tr>\n",
       "      <th>2364</th>\n",
       "      <td>157</td>\n",
       "      <td>Riverside C entury Plaza Main Tower</td>\n",
       "      <td>Wuhu</td>\n",
       "      <td>275.0</td>\n",
       "      <td>66</td>\n",
       "      <td>31.33728</td>\n",
       "      <td>118.37351</td>\n",
       "      <td>33.953349</td>\n",
       "      <td>-117.396156</td>\n",
       "      <td>507524</td>\n",
       "      <td>19</td>\n",
       "      <td>10697.390041</td>\n",
       "    </tr>\n",
       "    <tr>\n",
       "      <th>2365</th>\n",
       "      <td>2117</td>\n",
       "      <td>Riverside C entury Plaza Apartment\\nTower 1</td>\n",
       "      <td>Wuhu</td>\n",
       "      <td>168.0</td>\n",
       "      <td>48</td>\n",
       "      <td>31.33728</td>\n",
       "      <td>118.37351</td>\n",
       "      <td>33.953349</td>\n",
       "      <td>-117.396156</td>\n",
       "      <td>507524</td>\n",
       "      <td>19</td>\n",
       "      <td>10697.390041</td>\n",
       "    </tr>\n",
       "    <tr>\n",
       "      <th>2366</th>\n",
       "      <td>2117</td>\n",
       "      <td>Riverside C entury Plaza Apartment\\nTower 2</td>\n",
       "      <td>Wuhu</td>\n",
       "      <td>168.0</td>\n",
       "      <td>48</td>\n",
       "      <td>31.33728</td>\n",
       "      <td>118.37351</td>\n",
       "      <td>33.953349</td>\n",
       "      <td>-117.396156</td>\n",
       "      <td>507524</td>\n",
       "      <td>19</td>\n",
       "      <td>10697.390041</td>\n",
       "    </tr>\n",
       "    <tr>\n",
       "      <th>1843</th>\n",
       "      <td>985</td>\n",
       "      <td>ORC 200</td>\n",
       "      <td>Osaka</td>\n",
       "      <td>200.0</td>\n",
       "      <td>51</td>\n",
       "      <td>34.69374</td>\n",
       "      <td>135.50218</td>\n",
       "      <td>36.947040</td>\n",
       "      <td>-82.810716</td>\n",
       "      <td>2592413</td>\n",
       "      <td>24</td>\n",
       "      <td>11118.265146</td>\n",
       "    </tr>\n",
       "    <tr>\n",
       "      <th>1386</th>\n",
       "      <td>1135</td>\n",
       "      <td>Times Square Tower D</td>\n",
       "      <td>Chongqing</td>\n",
       "      <td>195.0</td>\n",
       "      <td>41</td>\n",
       "      <td>29.56278</td>\n",
       "      <td>106.55278</td>\n",
       "      <td>40.759011</td>\n",
       "      <td>-73.984472</td>\n",
       "      <td>7457600</td>\n",
       "      <td>225</td>\n",
       "      <td>12195.464427</td>\n",
       "    </tr>\n",
       "    <tr>\n",
       "      <th>1403</th>\n",
       "      <td>2139</td>\n",
       "      <td>Times Square Tower C</td>\n",
       "      <td>Chongqing</td>\n",
       "      <td>168.0</td>\n",
       "      <td>39</td>\n",
       "      <td>29.56278</td>\n",
       "      <td>106.55278</td>\n",
       "      <td>40.759011</td>\n",
       "      <td>-73.984472</td>\n",
       "      <td>7457600</td>\n",
       "      <td>225</td>\n",
       "      <td>12195.464427</td>\n",
       "    </tr>\n",
       "    <tr>\n",
       "      <th>2948</th>\n",
       "      <td>1009</td>\n",
       "      <td>Palm Springs International C enter\\nTower 1</td>\n",
       "      <td>Chengdu</td>\n",
       "      <td>200.0</td>\n",
       "      <td>41</td>\n",
       "      <td>30.66667</td>\n",
       "      <td>104.06667</td>\n",
       "      <td>33.830296</td>\n",
       "      <td>-116.545292</td>\n",
       "      <td>7415590</td>\n",
       "      <td>499</td>\n",
       "      <td>11673.079115</td>\n",
       "    </tr>\n",
       "    <tr>\n",
       "      <th>1706</th>\n",
       "      <td>472</td>\n",
       "      <td>The Met</td>\n",
       "      <td>Bangkok</td>\n",
       "      <td>230.6</td>\n",
       "      <td>69</td>\n",
       "      <td>13.75398</td>\n",
       "      <td>100.50144</td>\n",
       "      <td>19.516112</td>\n",
       "      <td>-96.860160</td>\n",
       "      <td>5104476</td>\n",
       "      <td>12</td>\n",
       "      <td>15856.067008</td>\n",
       "    </tr>\n",
       "  </tbody>\n",
       "</table>\n",
       "</div>"
      ],
      "text/plain": [
       "      Rank                                     Building       name  Height_m  \\\n",
       "2364   157          Riverside C entury Plaza Main Tower       Wuhu     275.0   \n",
       "2365  2117  Riverside C entury Plaza Apartment\\nTower 1       Wuhu     168.0   \n",
       "2366  2117  Riverside C entury Plaza Apartment\\nTower 2       Wuhu     168.0   \n",
       "1843   985                                      ORC 200      Osaka     200.0   \n",
       "1386  1135                         Times Square Tower D  Chongqing     195.0   \n",
       "1403  2139                         Times Square Tower C  Chongqing     168.0   \n",
       "2948  1009  Palm Springs International C enter\\nTower 1    Chengdu     200.0   \n",
       "1706   472                                      The Met    Bangkok     230.6   \n",
       "\n",
       "     Floors  city_lat   city_lon        lat         lon  population  dem  \\\n",
       "2364     66  31.33728  118.37351  33.953349 -117.396156      507524   19   \n",
       "2365     48  31.33728  118.37351  33.953349 -117.396156      507524   19   \n",
       "2366     48  31.33728  118.37351  33.953349 -117.396156      507524   19   \n",
       "1843     51  34.69374  135.50218  36.947040  -82.810716     2592413   24   \n",
       "1386     41  29.56278  106.55278  40.759011  -73.984472     7457600  225   \n",
       "1403     39  29.56278  106.55278  40.759011  -73.984472     7457600  225   \n",
       "2948     41  30.66667  104.06667  33.830296 -116.545292     7415590  499   \n",
       "1706     69  13.75398  100.50144  19.516112  -96.860160     5104476   12   \n",
       "\n",
       "      dist_to_city  \n",
       "2364  10697.390041  \n",
       "2365  10697.390041  \n",
       "2366  10697.390041  \n",
       "1843  11118.265146  \n",
       "1386  12195.464427  \n",
       "1403  12195.464427  \n",
       "2948  11673.079115  \n",
       "1706  15856.067008  "
      ]
     },
     "execution_count": 229,
     "metadata": {},
     "output_type": "execute_result"
    }
   ],
   "source": [
    "df_grad[df_grad.dist_to_city>10000]"
   ]
  },
  {
   "cell_type": "code",
   "execution_count": 230,
   "metadata": {
    "collapsed": false
   },
   "outputs": [
    {
     "data": {
      "text/html": [
       "<div>\n",
       "<table border=\"1\" class=\"dataframe\">\n",
       "  <thead>\n",
       "    <tr style=\"text-align: right;\">\n",
       "      <th></th>\n",
       "      <th>Rank</th>\n",
       "      <th>Building</th>\n",
       "      <th>name</th>\n",
       "      <th>Height_m</th>\n",
       "      <th>Floors</th>\n",
       "      <th>city_lat</th>\n",
       "      <th>city_lon</th>\n",
       "      <th>lat</th>\n",
       "      <th>lon</th>\n",
       "      <th>population</th>\n",
       "      <th>dem</th>\n",
       "      <th>dist_to_city</th>\n",
       "    </tr>\n",
       "  </thead>\n",
       "  <tbody>\n",
       "    <tr>\n",
       "      <th>3053</th>\n",
       "      <td>2121</td>\n",
       "      <td>The Peak</td>\n",
       "      <td>Sydney</td>\n",
       "      <td>168.0</td>\n",
       "      <td>46</td>\n",
       "      <td>-33.86785</td>\n",
       "      <td>151.20732</td>\n",
       "      <td>-33.782345</td>\n",
       "      <td>150.801659</td>\n",
       "      <td>4627345</td>\n",
       "      <td>58</td>\n",
       "      <td>38.659962</td>\n",
       "    </tr>\n",
       "    <tr>\n",
       "      <th>76</th>\n",
       "      <td>1425</td>\n",
       "      <td>Etisalat Tower 2</td>\n",
       "      <td>Dubai</td>\n",
       "      <td>185.0</td>\n",
       "      <td>33</td>\n",
       "      <td>25.06570</td>\n",
       "      <td>55.17128</td>\n",
       "      <td>25.264568</td>\n",
       "      <td>55.450423</td>\n",
       "      <td>1137347</td>\n",
       "      <td>3</td>\n",
       "      <td>35.752202</td>\n",
       "    </tr>\n",
       "    <tr>\n",
       "      <th>1182</th>\n",
       "      <td>149</td>\n",
       "      <td>World Trade C enter Abu Dhabi - The Offices</td>\n",
       "      <td>Abu Dhabi</td>\n",
       "      <td>278.0</td>\n",
       "      <td>60</td>\n",
       "      <td>24.46667</td>\n",
       "      <td>54.36667</td>\n",
       "      <td>24.299174</td>\n",
       "      <td>54.697277</td>\n",
       "      <td>603492</td>\n",
       "      <td>6</td>\n",
       "      <td>38.314318</td>\n",
       "    </tr>\n",
       "    <tr>\n",
       "      <th>1184</th>\n",
       "      <td>179</td>\n",
       "      <td>Nation Towers Residential Lofts</td>\n",
       "      <td>Abu Dhabi</td>\n",
       "      <td>268.0</td>\n",
       "      <td>64</td>\n",
       "      <td>24.46667</td>\n",
       "      <td>54.36667</td>\n",
       "      <td>24.299174</td>\n",
       "      <td>54.697277</td>\n",
       "      <td>603492</td>\n",
       "      <td>6</td>\n",
       "      <td>38.314318</td>\n",
       "    </tr>\n",
       "    <tr>\n",
       "      <th>1186</th>\n",
       "      <td>398</td>\n",
       "      <td>The Gate Residential Tower 1</td>\n",
       "      <td>Abu Dhabi</td>\n",
       "      <td>238.0</td>\n",
       "      <td>66</td>\n",
       "      <td>24.46667</td>\n",
       "      <td>54.36667</td>\n",
       "      <td>24.299174</td>\n",
       "      <td>54.697277</td>\n",
       "      <td>603492</td>\n",
       "      <td>6</td>\n",
       "      <td>38.314318</td>\n",
       "    </tr>\n",
       "    <tr>\n",
       "      <th>1187</th>\n",
       "      <td>398</td>\n",
       "      <td>The Gate Residential Tower 2</td>\n",
       "      <td>Abu Dhabi</td>\n",
       "      <td>238.0</td>\n",
       "      <td>66</td>\n",
       "      <td>24.46667</td>\n",
       "      <td>54.36667</td>\n",
       "      <td>24.299174</td>\n",
       "      <td>54.697277</td>\n",
       "      <td>603492</td>\n",
       "      <td>6</td>\n",
       "      <td>38.314318</td>\n",
       "    </tr>\n",
       "    <tr>\n",
       "      <th>1188</th>\n",
       "      <td>398</td>\n",
       "      <td>The Gate Residential Tower 3</td>\n",
       "      <td>Abu Dhabi</td>\n",
       "      <td>238.0</td>\n",
       "      <td>66</td>\n",
       "      <td>24.46667</td>\n",
       "      <td>54.36667</td>\n",
       "      <td>24.299174</td>\n",
       "      <td>54.697277</td>\n",
       "      <td>603492</td>\n",
       "      <td>6</td>\n",
       "      <td>38.314318</td>\n",
       "    </tr>\n",
       "    <tr>\n",
       "      <th>1191</th>\n",
       "      <td>445</td>\n",
       "      <td>St. Regis Luxury Hotel</td>\n",
       "      <td>Abu Dhabi</td>\n",
       "      <td>233.2</td>\n",
       "      <td>51</td>\n",
       "      <td>24.46667</td>\n",
       "      <td>54.36667</td>\n",
       "      <td>24.299174</td>\n",
       "      <td>54.697277</td>\n",
       "      <td>603492</td>\n",
       "      <td>6</td>\n",
       "      <td>38.314318</td>\n",
       "    </tr>\n",
       "    <tr>\n",
       "      <th>1194</th>\n",
       "      <td>754</td>\n",
       "      <td>C apital Plaza Residential Towers</td>\n",
       "      <td>Abu Dhabi</td>\n",
       "      <td>210.0</td>\n",
       "      <td>51</td>\n",
       "      <td>24.46667</td>\n",
       "      <td>54.36667</td>\n",
       "      <td>24.299174</td>\n",
       "      <td>54.697277</td>\n",
       "      <td>603492</td>\n",
       "      <td>6</td>\n",
       "      <td>38.314318</td>\n",
       "    </tr>\n",
       "    <tr>\n",
       "      <th>1197</th>\n",
       "      <td>1412</td>\n",
       "      <td>ADIA Tower</td>\n",
       "      <td>Abu Dhabi</td>\n",
       "      <td>185.0</td>\n",
       "      <td>40</td>\n",
       "      <td>24.46667</td>\n",
       "      <td>54.36667</td>\n",
       "      <td>24.299174</td>\n",
       "      <td>54.697277</td>\n",
       "      <td>603492</td>\n",
       "      <td>6</td>\n",
       "      <td>38.314318</td>\n",
       "    </tr>\n",
       "    <tr>\n",
       "      <th>1198</th>\n",
       "      <td>1418</td>\n",
       "      <td>IPIC Square</td>\n",
       "      <td>Abu Dhabi</td>\n",
       "      <td>185.0</td>\n",
       "      <td>37</td>\n",
       "      <td>24.46667</td>\n",
       "      <td>54.36667</td>\n",
       "      <td>24.299174</td>\n",
       "      <td>54.697277</td>\n",
       "      <td>603492</td>\n",
       "      <td>6</td>\n",
       "      <td>38.314318</td>\n",
       "    </tr>\n",
       "    <tr>\n",
       "      <th>1199</th>\n",
       "      <td>1868</td>\n",
       "      <td>National Bank of Abu Dhabi\\nHeadquarters</td>\n",
       "      <td>Abu Dhabi</td>\n",
       "      <td>173.0</td>\n",
       "      <td>33</td>\n",
       "      <td>24.46667</td>\n",
       "      <td>54.36667</td>\n",
       "      <td>24.299174</td>\n",
       "      <td>54.697277</td>\n",
       "      <td>603492</td>\n",
       "      <td>6</td>\n",
       "      <td>38.314318</td>\n",
       "    </tr>\n",
       "    <tr>\n",
       "      <th>1200</th>\n",
       "      <td>1884</td>\n",
       "      <td>C reek Tower</td>\n",
       "      <td>Abu Dhabi</td>\n",
       "      <td>172.0</td>\n",
       "      <td>50</td>\n",
       "      <td>24.46667</td>\n",
       "      <td>54.36667</td>\n",
       "      <td>24.299174</td>\n",
       "      <td>54.697277</td>\n",
       "      <td>603492</td>\n",
       "      <td>6</td>\n",
       "      <td>38.314318</td>\n",
       "    </tr>\n",
       "    <tr>\n",
       "      <th>1201</th>\n",
       "      <td>2248</td>\n",
       "      <td>C apital Plaza Sofitel Hotel</td>\n",
       "      <td>Abu Dhabi</td>\n",
       "      <td>166.0</td>\n",
       "      <td>38</td>\n",
       "      <td>24.46667</td>\n",
       "      <td>54.36667</td>\n",
       "      <td>24.299174</td>\n",
       "      <td>54.697277</td>\n",
       "      <td>603492</td>\n",
       "      <td>6</td>\n",
       "      <td>38.314318</td>\n",
       "    </tr>\n",
       "    <tr>\n",
       "      <th>1202</th>\n",
       "      <td>2330</td>\n",
       "      <td>Baynunah Hilton Tower Hotel</td>\n",
       "      <td>Abu Dhabi</td>\n",
       "      <td>164.9</td>\n",
       "      <td>42</td>\n",
       "      <td>24.46667</td>\n",
       "      <td>54.36667</td>\n",
       "      <td>24.299174</td>\n",
       "      <td>54.697277</td>\n",
       "      <td>603492</td>\n",
       "      <td>6</td>\n",
       "      <td>38.314318</td>\n",
       "    </tr>\n",
       "    <tr>\n",
       "      <th>1203</th>\n",
       "      <td>2346</td>\n",
       "      <td>C apital Gate Tower</td>\n",
       "      <td>Abu Dhabi</td>\n",
       "      <td>164.6</td>\n",
       "      <td>36</td>\n",
       "      <td>24.46667</td>\n",
       "      <td>54.36667</td>\n",
       "      <td>24.299174</td>\n",
       "      <td>54.697277</td>\n",
       "      <td>603492</td>\n",
       "      <td>6</td>\n",
       "      <td>38.314318</td>\n",
       "    </tr>\n",
       "    <tr>\n",
       "      <th>1204</th>\n",
       "      <td>2611</td>\n",
       "      <td>Etisalat Headquarters</td>\n",
       "      <td>Abu Dhabi</td>\n",
       "      <td>160.0</td>\n",
       "      <td>27</td>\n",
       "      <td>24.46667</td>\n",
       "      <td>54.36667</td>\n",
       "      <td>24.299174</td>\n",
       "      <td>54.697277</td>\n",
       "      <td>603492</td>\n",
       "      <td>6</td>\n",
       "      <td>38.314318</td>\n",
       "    </tr>\n",
       "  </tbody>\n",
       "</table>\n",
       "</div>"
      ],
      "text/plain": [
       "      Rank                                     Building       name  Height_m  \\\n",
       "3053  2121                                     The Peak     Sydney     168.0   \n",
       "76    1425                             Etisalat Tower 2      Dubai     185.0   \n",
       "1182   149  World Trade C enter Abu Dhabi - The Offices  Abu Dhabi     278.0   \n",
       "1184   179              Nation Towers Residential Lofts  Abu Dhabi     268.0   \n",
       "1186   398                 The Gate Residential Tower 1  Abu Dhabi     238.0   \n",
       "1187   398                 The Gate Residential Tower 2  Abu Dhabi     238.0   \n",
       "1188   398                 The Gate Residential Tower 3  Abu Dhabi     238.0   \n",
       "1191   445                       St. Regis Luxury Hotel  Abu Dhabi     233.2   \n",
       "1194   754            C apital Plaza Residential Towers  Abu Dhabi     210.0   \n",
       "1197  1412                                   ADIA Tower  Abu Dhabi     185.0   \n",
       "1198  1418                                  IPIC Square  Abu Dhabi     185.0   \n",
       "1199  1868     National Bank of Abu Dhabi\\nHeadquarters  Abu Dhabi     173.0   \n",
       "1200  1884                                 C reek Tower  Abu Dhabi     172.0   \n",
       "1201  2248                 C apital Plaza Sofitel Hotel  Abu Dhabi     166.0   \n",
       "1202  2330                  Baynunah Hilton Tower Hotel  Abu Dhabi     164.9   \n",
       "1203  2346                          C apital Gate Tower  Abu Dhabi     164.6   \n",
       "1204  2611                        Etisalat Headquarters  Abu Dhabi     160.0   \n",
       "\n",
       "     Floors  city_lat   city_lon        lat         lon  population  dem  \\\n",
       "3053     46 -33.86785  151.20732 -33.782345  150.801659     4627345   58   \n",
       "76       33  25.06570   55.17128  25.264568   55.450423     1137347    3   \n",
       "1182     60  24.46667   54.36667  24.299174   54.697277      603492    6   \n",
       "1184     64  24.46667   54.36667  24.299174   54.697277      603492    6   \n",
       "1186     66  24.46667   54.36667  24.299174   54.697277      603492    6   \n",
       "1187     66  24.46667   54.36667  24.299174   54.697277      603492    6   \n",
       "1188     66  24.46667   54.36667  24.299174   54.697277      603492    6   \n",
       "1191     51  24.46667   54.36667  24.299174   54.697277      603492    6   \n",
       "1194     51  24.46667   54.36667  24.299174   54.697277      603492    6   \n",
       "1197     40  24.46667   54.36667  24.299174   54.697277      603492    6   \n",
       "1198     37  24.46667   54.36667  24.299174   54.697277      603492    6   \n",
       "1199     33  24.46667   54.36667  24.299174   54.697277      603492    6   \n",
       "1200     50  24.46667   54.36667  24.299174   54.697277      603492    6   \n",
       "1201     38  24.46667   54.36667  24.299174   54.697277      603492    6   \n",
       "1202     42  24.46667   54.36667  24.299174   54.697277      603492    6   \n",
       "1203     36  24.46667   54.36667  24.299174   54.697277      603492    6   \n",
       "1204     27  24.46667   54.36667  24.299174   54.697277      603492    6   \n",
       "\n",
       "      dist_to_city  \n",
       "3053     38.659962  \n",
       "76       35.752202  \n",
       "1182     38.314318  \n",
       "1184     38.314318  \n",
       "1186     38.314318  \n",
       "1187     38.314318  \n",
       "1188     38.314318  \n",
       "1191     38.314318  \n",
       "1194     38.314318  \n",
       "1197     38.314318  \n",
       "1198     38.314318  \n",
       "1199     38.314318  \n",
       "1200     38.314318  \n",
       "1201     38.314318  \n",
       "1202     38.314318  \n",
       "1203     38.314318  \n",
       "1204     38.314318  "
      ]
     },
     "execution_count": 230,
     "metadata": {},
     "output_type": "execute_result"
    }
   ],
   "source": [
    "df_grad[(df_grad.dist_to_city>35) & (df_grad.dist_to_city<40)]"
   ]
  },
  {
   "cell_type": "code",
   "execution_count": 265,
   "metadata": {
    "collapsed": false,
    "scrolled": false
   },
   "outputs": [
    {
     "data": {
      "text/plain": [
       "(-100, 50000)"
      ]
     },
     "execution_count": 265,
     "metadata": {},
     "output_type": "execute_result"
    },
    {
     "data": {
      "image/png": "[encoded data removed]",
      "text/plain": [
       "<matplotlib.figure.Figure at 0x7fe902f68fd0>"
      ]
     },
     "metadata": {},
     "output_type": "display_data"
    }
   ],
   "source": [
    "## population density vs building heights\n",
    "plt.rcParams.update({'font.size': 14})\n",
    "f, ax = plt.subplots(figsize=(16,8))\n",
    "\n",
    "ax.plot(df_v1.popdens, df_v1.Height_m, 'ob', markersize=5)\n",
    "ax.set_title('Building height vs population density')\n",
    "ax.set_ylabel('Building height (m)')\n",
    "ax.set_xlabel('Population density (pop/km^2)')\n",
    "ax.set_xlim(-100,50000)"
   ]
  },
  {
   "cell_type": "code",
   "execution_count": null,
   "metadata": {
    "collapsed": true
   },
   "outputs": [],
   "source": []
  }
 ],
 "metadata": {
  "kernelspec": {
   "display_name": "Python 2",
   "language": "python",
   "name": "python2"
  },
  "language_info": {
   "codemirror_mode": {
    "name": "ipython",
    "version": 2
   },
   "file_extension": ".py",
   "mimetype": "text/x-python",
   "name": "python",
   "nbconvert_exporter": "python",
   "pygments_lexer": "ipython2",
   "version": "2.7.11"
  }
 },
 "nbformat": 4,
 "nbformat_minor": 0
}
